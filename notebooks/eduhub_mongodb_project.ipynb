{
 "cells": [
  {
   "cell_type": "code",
   "execution_count": 1,
   "id": "51d38d2a",
   "metadata": {},
   "outputs": [],
   "source": [
    "from pymongo import MongoClient\n",
    "from datetime import datetime\n",
    "import pandas as pd"
   ]
  },
  {
   "cell_type": "code",
   "execution_count": 2,
   "id": "6033ce16",
   "metadata": {},
   "outputs": [
    {
     "name": "stdout",
     "output_type": "stream",
     "text": [
      "Connection Successful!\n"
     ]
    }
   ],
   "source": [
    "try:\n",
    "    client = MongoClient('mongodb://localhost:27017/')\n",
    "    db = client['eduhub_db']\n",
    "    print('Connection Successful!')\n",
    "except Exception as e:\n",
    "    print(f'Erro connecting to Database: {e}')\n"
   ]
  },
  {
   "cell_type": "code",
   "execution_count": 3,
   "id": "abd913fc",
   "metadata": {},
   "outputs": [],
   "source": [
    "user_data = [\n",
    "    {\"user_id\": 1, \"full_name\": \"Dorcas Williams\", \"email\": \"dorcas@gmail.com\", \"role\": \"instructor\", \"dateJoined\": datetime.now(), \"profile\": {\n",
    "        \"bio\": \"I am Dorcas, an instructor at this academy.\",\n",
    "        \"avatar\": \"https://example.com/avatar1.jpg\",\n",
    "        \"skills\": [\"Python\", \"MongoDB\", \"SQL\", \"JavaScript\"]\n",
    "    }, 'is_active': 'True'},\n",
    "    {\"user_id\": 2, \"full_name\": \"Isaac Brown\", \"email\": \"isaacb@gmail.com\", \"role\": \"student\", \"dateJoined\": datetime.now(), \"profile\": {\n",
    "        \"bio\": \"Student passionate about backend development.\",\n",
    "        \"avatar\": \"https://example.com/avatar2.jpg\",\n",
    "        \"skills\": [\"Python\", \"Flask\", \"Docker\"]\n",
    "    }, 'is_active': 'True'},\n",
    "    {\"user_id\": 3, \"full_name\": \"Clara Osei\", \"email\": \"clarao@gmail.com\", \"role\": \"instructor\", \"dateJoined\": datetime.now(), \"profile\": {\n",
    "        \"bio\": \"Teaching JavaScript and frontend frameworks.\",\n",
    "        \"avatar\": \"https://example.com/avatar3.jpg\",\n",
    "        \"skills\": [\"JavaScript\", \"React\", \"HTML\", \"CSS\"]\n",
    "    }, 'is_active': 'True'},\n",
    "    {\"user_id\": 4, \"full_name\": \"Emeka Obi\", \"email\": \"emeka@gmail.com\", \"role\": \"student\", \"dateJoined\": datetime.now(), \"profile\": {\n",
    "        \"bio\": \"Learning data analysis and visualization.\",\n",
    "        \"avatar\": \"https://example.com/avatar4.jpg\",\n",
    "        \"skills\": [\"Excel\", \"Power BI\", \"SQL\"]\n",
    "    }, 'is_active': 'True'},\n",
    "    {\"user_id\": 5, \"full_name\": \"Aisha Bello\", \"email\": \"aisha@gmail.com\", \"role\": \"instructor\", \"dateJoined\": datetime.now(), \"profile\": {\n",
    "        \"bio\": \"Mentor in machine learning and Python.\",\n",
    "        \"avatar\": \"https://example.com/avatar5.jpg\",\n",
    "        \"skills\": [\"Python\", \"Scikit-learn\", \"Pandas\", \"NumPy\"]\n",
    "    }, 'is_active': 'True'},\n",
    "    {\"user_id\": 6, \"full_name\": \"John Doe\", \"email\": \"jdoe@gmail.com\", \"role\": \"student\", \"dateJoined\": datetime.now(), \"profile\": {\n",
    "        \"bio\": \"Exploring web development fundamentals.\",\n",
    "        \"avatar\": \"https://example.com/avatar6.jpg\",\n",
    "        \"skills\": [\"HTML\", \"CSS\", \"JavaScript\"]\n",
    "    }, 'is_active': 'True'},\n",
    "    {\"user_id\": 7, \"full_name\": \"Grace Mwangi\", \"email\": \"gracem@gmail.com\", \"role\": \"instructor\", \"dateJoined\": datetime.now(), \"profile\": {\n",
    "        \"bio\": \"Guiding students in cloud computing.\",\n",
    "        \"avatar\": \"https://example.com/avatar7.jpg\",\n",
    "        \"skills\": [\"AWS\", \"Azure\", \"Docker\"]\n",
    "    }, 'is_active': 'True'},\n",
    "    {\"user_id\": 8, \"full_name\": \"Samuel Kim\", \"email\": \"samkim@gmail.com\", \"role\": \"student\", \"dateJoined\": datetime.now(), \"profile\": {\n",
    "        \"bio\": \"Interested in automation and scripting.\",\n",
    "        \"avatar\": \"https://example.com/avatar8.jpg\",\n",
    "        \"skills\": [\"Python\", \"Bash\", \"Git\"]\n",
    "    }, 'is_active': 'True'},\n",
    "    {\"user_id\": 9, \"full_name\": \"Fatima Yusuf\", \"email\": \"fatima@gmail.com\", \"role\": \"instructor\", \"dateJoined\": datetime.now(), \"profile\": {\n",
    "        \"bio\": \"Instructor focused on database design.\",\n",
    "        \"avatar\": \"https://example.com/avatar9.jpg\",\n",
    "        \"skills\": [\"MySQL\", \"PostgreSQL\", \"MongoDB\"]\n",
    "    }, 'is_active': 'True'},\n",
    "    {\"user_id\": 10, \"full_name\": \"Michael Chen\", \"email\": \"mchen@gmail.com\", \"role\": \"student\", \"dateJoined\": datetime.now(), \"profile\": {\n",
    "        \"bio\": \"Pursuing a path in AI and deep learning.\",\n",
    "        \"avatar\": \"https://example.com/avatar10.jpg\",\n",
    "        \"skills\": [\"TensorFlow\", \"Keras\", \"Python\"]\n",
    "    }, 'is_active': 'True'},\n",
    "    {\"user_id\": 11, \"full_name\": \"Linda Kone\", \"email\": \"lindak@gmail.com\", \"role\": \"instructor\", \"dateJoined\": datetime.now(), \"profile\": {\n",
    "        \"bio\": \"Instructor in software engineering principles.\",\n",
    "        \"avatar\": \"https://example.com/avatar11.jpg\",\n",
    "        \"skills\": [\"Java\", \"Spring Boot\", \"Git\"]\n",
    "    }, 'is_active': 'True'},\n",
    "    {\"user_id\": 12, \"full_name\": \"Omar Diallo\", \"email\": \"omard@gmail.com\", \"role\": \"student\", \"dateJoined\": datetime.now(), \"profile\": {\n",
    "        \"bio\": \"Learning APIs and backend development.\",\n",
    "        \"avatar\": \"https://example.com/avatar12.jpg\",\n",
    "        \"skills\": [\"Node.js\", \"Express\", \"MongoDB\"]\n",
    "    }, 'is_active': 'True'},\n",
    "    {\"user_id\": 13, \"full_name\": \"Janet Mensah\", \"email\": \"janetm@gmail.com\", \"role\": \"instructor\", \"dateJoined\": datetime.now(), \"profile\": {\n",
    "        \"bio\": \"Frontend expert and UI/UX enthusiast.\",\n",
    "        \"avatar\": \"https://example.com/avatar13.jpg\",\n",
    "        \"skills\": [\"HTML\", \"CSS\", \"Figma\", \"React\"]\n",
    "    }, 'is_active': 'True'},\n",
    "    {\"user_id\": 14, \"full_name\": \"Aliyu Musa\", \"email\": \"aliyum@gmail.com\", \"role\": \"student\", \"dateJoined\": datetime.now(), \"profile\": {\n",
    "        \"bio\": \"Beginner exploring full-stack development.\",\n",
    "        \"avatar\": \"https://example.com/avatar14.jpg\",\n",
    "        \"skills\": [\"Python\", \"React\", \"Django\"]\n",
    "    }, 'is_active': 'True'},\n",
    "    {\"user_id\": 15, \"full_name\": \"Sarah Njeri\", \"email\": \"sarahn@gmail.com\", \"role\": \"instructor\", \"dateJoined\": datetime.now(), \"profile\": {\n",
    "        \"bio\": \"Cybersecurity instructor with 5 years of experience.\",\n",
    "        \"avatar\": \"https://example.com/avatar15.jpg\",\n",
    "        \"skills\": [\"Network Security\", \"Linux\", \"Python\"]\n",
    "    }, 'is_active': 'True'},\n",
    "    {\"user_id\": 16, \"full_name\": \"Peter Obi\", \"email\": \"petero@gmail.com\", \"role\": \"student\", \"dateJoined\": datetime.now(), \"profile\": {\n",
    "        \"bio\": \"Student aiming to become a DevOps engineer.\",\n",
    "        \"avatar\": \"https://example.com/avatar16.jpg\",\n",
    "        \"skills\": [\"Docker\", \"Kubernetes\", \"CI/CD\"]\n",
    "    }, 'is_active': 'True'},\n",
    "    {\"user_id\": 17, \"full_name\": \"Fola Adebayo\", \"email\": \"fola@gmail.com\", \"role\": \"instructor\", \"dateJoined\": datetime.now(), \"profile\": {\n",
    "        \"bio\": \"Specialist in data science and analytics.\",\n",
    "        \"avatar\": \"https://example.com/avatar17.jpg\",\n",
    "        \"skills\": [\"Pandas\", \"NumPy\", \"Tableau\", \"SQL\"]\n",
    "    }, 'is_active': 'True'},\n",
    "    {\"user_id\": 18, \"full_name\": \"Mariam Jatta\", \"email\": \"mariamj@gmail.com\", \"role\": \"student\", \"dateJoined\": datetime.now(), \"profile\": {\n",
    "        \"bio\": \"Exploring app development and design.\",\n",
    "        \"avatar\": \"https://example.com/avatar18.jpg\",\n",
    "        \"skills\": [\"Flutter\", \"Dart\", \"Firebase\"]\n",
    "    }, 'is_active': 'True'},\n",
    "    {\"user_id\": 19, \"full_name\": \"Kevin Banda\", \"email\": \"kevinb@gmail.com\", \"role\": \"instructor\", \"dateJoined\": datetime.now(), \"profile\": {\n",
    "        \"bio\": \"Mobile development mentor.\",\n",
    "        \"avatar\": \"https://example.com/avatar19.jpg\",\n",
    "        \"skills\": [\"React Native\", \"Kotlin\", \"Swift\"]\n",
    "    }, 'is_active': 'True'},\n",
    "    {\"user_id\": 20, \"full_name\": \"Chinwe Okeke\", \"email\": \"chinweo@gmail.com\", \"role\": \"student\", \"dateJoined\": datetime.now(), \"profile\": {\n",
    "        \"bio\": \"Interested in cybersecurity and networking.\",\n",
    "        \"avatar\": \"https://example.com/avatar20.jpg\",\n",
    "        \"skills\": [\"Wireshark\", \"Linux\", \"Python\"]\n",
    "    }, 'is_active': 'True'},\n",
    "]"
   ]
  },
  {
   "cell_type": "code",
   "execution_count": 4,
   "id": "a0ec212e",
   "metadata": {},
   "outputs": [
    {
     "name": "stdout",
     "output_type": "stream",
     "text": [
      "Users added!!!\n"
     ]
    }
   ],
   "source": [
    "try:\n",
    "    user_collection = db[\"users\"]\n",
    "    insert_data = user_collection.insert_many(user_data)\n",
    "    print(\"Users added!!!\")\n",
    "except Exception as e:\n",
    "    print(f\"Unable to add user because of {e}\")"
   ]
  },
  {
   "cell_type": "code",
   "execution_count": 5,
   "id": "a16472ac",
   "metadata": {},
   "outputs": [],
   "source": [
    "course_data = [\n",
    "    {\n",
    "        \"course_id\": 1,\n",
    "        \"title\": \"Introduction to Python\",\n",
    "        \"description\": \"Learn the basics of Python programming.\",\n",
    "        \"instructor_id\": 1,\n",
    "        \"category\": \"Programming\",\n",
    "        \"level\": \"beginner\",\n",
    "        \"duration\": 10,\n",
    "        \"price\": 49.99,\n",
    "        \"tags\": [\"Python\", \"Programming\", \"Beginner\"],\n",
    "        \"created_at\": datetime.now(),\n",
    "        \"updated_at\": datetime.now(),\n",
    "        \"is_published\": True,\n",
    "        \"rating\": 4.7\n",
    "    },\n",
    "    {\n",
    "        \"course_id\": 2,\n",
    "        \"title\": \"Data Analysis with Pandas\",\n",
    "        \"description\": \"Analyze data efficiently using Pandas library.\",\n",
    "        \"instructor_id\": 5,\n",
    "        \"category\": \"Data Science\",\n",
    "        \"level\": \"intermediate\",\n",
    "        \"duration\": 8,\n",
    "        \"price\": 59.99,\n",
    "        \"tags\": [\"Data Science\", \"Pandas\", \"Analysis\"],\n",
    "        \"created_at\": datetime.now(),\n",
    "        \"updated_at\": datetime.now(),\n",
    "        \"is_published\": True,\n",
    "        \"rating\": 4.6\n",
    "    },\n",
    "    {\n",
    "        \"course_id\": 3,\n",
    "        \"title\": \"Web Development with HTML & CSS\",\n",
    "        \"description\": \"Build modern websites using HTML and CSS.\",\n",
    "        \"instructor_id\": 13,\n",
    "        \"category\": \"Web Development\",\n",
    "        \"level\": \"beginner\",\n",
    "        \"duration\": 12,\n",
    "        \"price\": 39.99,\n",
    "        \"tags\": [\"HTML\", \"CSS\", \"Frontend\"],\n",
    "        \"created_at\": datetime.now(),\n",
    "        \"updated_at\": datetime.now(),\n",
    "        \"is_published\": True,\n",
    "        \"rating\": 4.8\n",
    "    },\n",
    "    {\n",
    "        \"course_id\": 4,\n",
    "        \"title\": \"JavaScript Essentials\",\n",
    "        \"description\": \"Understand JavaScript for interactive web pages.\",\n",
    "        \"instructor_id\": 3,\n",
    "        \"category\": \"Programming\",\n",
    "        \"level\": \"beginner\",\n",
    "        \"duration\": 14,\n",
    "        \"price\": 44.99,\n",
    "        \"tags\": [\"JavaScript\", \"Frontend\"],\n",
    "        \"created_at\": datetime.now(),\n",
    "        \"updated_at\": datetime.now(),\n",
    "        \"is_published\": True,\n",
    "        \"rating\": 4.5\n",
    "    },\n",
    "    {\n",
    "        \"course_id\": 5,\n",
    "        \"title\": \"React for Beginners\",\n",
    "        \"description\": \"Build responsive web apps using React.\",\n",
    "        \"instructor_id\": 13,\n",
    "        \"category\": \"Frontend Development\",\n",
    "        \"level\": \"intermediate\",\n",
    "        \"duration\": 15,\n",
    "        \"price\": 69.99,\n",
    "        \"tags\": [\"React\", \"JavaScript\", \"Frontend\"],\n",
    "        \"created_at\": datetime.now(),\n",
    "        \"updated_at\": datetime.now(),\n",
    "        \"is_published\": True,\n",
    "        \"rating\": 4.9\n",
    "    },\n",
    "    {\n",
    "        \"course_id\": 6,\n",
    "        \"title\": \"Advanced Machine Learning\",\n",
    "        \"description\": \"Dive deep into ML algorithms and model tuning.\",\n",
    "        \"instructor_id\": 5,\n",
    "        \"category\": \"Data Science\",\n",
    "        \"level\": \"advanced\",\n",
    "        \"duration\": 20,\n",
    "        \"price\": 99.99,\n",
    "        \"tags\": [\"ML\", \"AI\", \"Scikit-learn\"],\n",
    "        \"created_at\": datetime.now(),\n",
    "        \"updated_at\": datetime.now(),\n",
    "        \"is_published\": True,\n",
    "        \"rating\": 4.6\n",
    "    },\n",
    "    {\n",
    "        \"course_id\": 7,\n",
    "        \"title\": \"Database Design with SQL\",\n",
    "        \"description\": \"Design and query relational databases effectively.\",\n",
    "        \"instructor_id\": 9,\n",
    "        \"category\": \"Databases\",\n",
    "        \"level\": \"intermediate\",\n",
    "        \"duration\": 10,\n",
    "        \"price\": 55.00,\n",
    "        \"tags\": [\"SQL\", \"Database\", \"Design\"],\n",
    "        \"created_at\": datetime.now(),\n",
    "        \"updated_at\": datetime.now(),\n",
    "        \"is_published\": True,\n",
    "        \"rating\": 4.4\n",
    "    },\n",
    "    {\n",
    "        \"course_id\": 8,\n",
    "        \"title\": \"Cybersecurity Fundamentals\",\n",
    "        \"description\": \"Protect systems with foundational security concepts.\",\n",
    "        \"instructor_id\": 15,\n",
    "        \"category\": \"Security\",\n",
    "        \"level\": \"beginner\",\n",
    "        \"duration\": 9,\n",
    "        \"price\": 65.50,\n",
    "        \"tags\": [\"Security\", \"Network\", \"Linux\"],\n",
    "        \"created_at\": datetime.now(),\n",
    "        \"updated_at\": datetime.now(),\n",
    "        \"is_published\": True,\n",
    "        \"rating\": 4.3\n",
    "    }\n",
    "]"
   ]
  },
  {
   "cell_type": "code",
   "execution_count": 6,
   "id": "ff877314",
   "metadata": {},
   "outputs": [
    {
     "name": "stdout",
     "output_type": "stream",
     "text": [
      "Courses added!!!\n"
     ]
    }
   ],
   "source": [
    "try:\n",
    "    course_collection = db[\"courses\"]\n",
    "    insert_course_data = course_collection.insert_many(course_data)\n",
    "    print(\"Courses added!!!\")\n",
    "except Exception as e:\n",
    "    print(f\"Unable to add courses because of {e}\")"
   ]
  },
  {
   "cell_type": "code",
   "execution_count": 7,
   "id": "1364f002",
   "metadata": {},
   "outputs": [],
   "source": [
    "enrollments_data = [\n",
    "    {\"enrollment_id\": 1, \"student_id\": 4, \"course_id\": 1, \"enrolled_at\": datetime.now(), \"is_active\": True},\n",
    "    {\"enrollment_id\": 2, \"student_id\": 6, \"course_id\": 3, \"enrolled_at\": datetime.now(), \"is_active\": True},\n",
    "    {\"enrollment_id\": 3, \"student_id\": 8, \"course_id\": 2, \"enrolled_at\": datetime.now(), \"is_active\": True},\n",
    "    {\"enrollment_id\": 4, \"student_id\": 10, \"course_id\": 5, \"enrolled_at\": datetime.now(), \"is_active\": True},\n",
    "    {\"enrollment_id\": 5, \"student_id\": 12, \"course_id\": 4, \"enrolled_at\": datetime.now(), \"is_active\": True},\n",
    "    {\"enrollment_id\": 6, \"student_id\": 14, \"course_id\": 6, \"enrolled_at\": datetime.now(), \"is_active\": True},\n",
    "    {\"enrollment_id\": 7, \"student_id\": 16, \"course_id\": 7, \"enrolled_at\": datetime.now(), \"is_active\": True},\n",
    "    {\"enrollment_id\": 8, \"student_id\": 18, \"course_id\": 8, \"enrolled_at\": datetime.now(), \"is_active\": False},\n",
    "    {\"enrollment_id\": 9, \"student_id\": 20, \"course_id\": 9, \"enrolled_at\": datetime.now(), \"is_active\": True},\n",
    "    {\"enrollment_id\": 10, \"student_id\": 4, \"course_id\": 10, \"enrolled_at\": datetime.now(), \"is_active\": True},\n",
    "    {\"enrollment_id\": 11, \"student_id\": 6, \"course_id\": 12, \"enrolled_at\": datetime.now(), \"is_active\": True},\n",
    "    {\"enrollment_id\": 12, \"student_id\": 8, \"course_id\": 13, \"enrolled_at\": datetime.now(), \"is_active\": True},\n",
    "    {\"enrollment_id\": 13, \"student_id\": 10, \"course_id\": 14, \"enrolled_at\": datetime.now(), \"is_active\": False},\n",
    "    {\"enrollment_id\": 14, \"student_id\": 12, \"course_id\": 15, \"enrolled_at\": datetime.now(), \"is_active\": True},\n",
    "    {\"enrollment_id\": 15, \"student_id\": 14, \"course_id\": 16, \"enrolled_at\": datetime.now(), \"is_active\": True},\n",
    "]"
   ]
  },
  {
   "cell_type": "code",
   "execution_count": 8,
   "id": "7646faa4",
   "metadata": {},
   "outputs": [
    {
     "name": "stdout",
     "output_type": "stream",
     "text": [
      "Enrollments added!!!\n"
     ]
    }
   ],
   "source": [
    "try:\n",
    "    course_collection = db[\"enrollments\"]\n",
    "    insert_course_data = course_collection.insert_many(enrollments_data)\n",
    "    print(\"Enrollments added!!!\")\n",
    "except Exception as e:\n",
    "    print(f\"Unable to add enrollments because of {e}\")"
   ]
  },
  {
   "cell_type": "code",
   "execution_count": 9,
   "id": "889e2ada",
   "metadata": {},
   "outputs": [],
   "source": [
    "lessons_data = [\n",
    "    {'lesson_id': 1, 'course_id': 2, 'title': 'Lesson 1: Introduction to HTML', 'content': 'This is the content for lesson 1.', 'video_url': 'https://example.com/videos/lesson1.mp4', 'duration': 11, 'created_at': datetime.now(), 'updated_at': datetime.now()},\n",
    "    {'lesson_id': 2, 'course_id': 2, 'title': 'Lesson 2: HTML Tags & Elements', 'content': 'Learn about tags and elements.', 'video_url': 'https://example.com/videos/lesson2.mp4', 'duration': 13, 'created_at': datetime.now(), 'updated_at': datetime.now()},\n",
    "    {'lesson_id': 3, 'course_id': 3, 'title': 'Lesson 3: CSS Basics', 'content': 'Styling with CSS.', 'video_url': 'https://example.com/videos/lesson3.mp4', 'duration': 10, 'created_at': datetime.now(), 'updated_at': datetime.now()},\n",
    "    {'lesson_id': 4, 'course_id': 3, 'title': 'Lesson 4: CSS Flexbox', 'content': 'Layout using Flexbox.', 'video_url': 'https://example.com/videos/lesson4.mp4', 'duration': 12, 'created_at': datetime.now(), 'updated_at': datetime.now()},\n",
    "    {'lesson_id': 5, 'course_id': 4, 'title': 'Lesson 5: JavaScript Intro', 'content': 'Basics of JavaScript.', 'video_url': 'https://example.com/videos/lesson5.mp4', 'duration': 15, 'created_at': datetime.now(), 'updated_at': datetime.now()},\n",
    "    {'lesson_id': 6, 'course_id': 4, 'title': 'Lesson 6: JavaScript Functions', 'content': 'Working with functions.', 'video_url': 'https://example.com/videos/lesson6.mp4', 'duration': 14, 'created_at': datetime.now(), 'updated_at': datetime.now()},\n",
    "    {'lesson_id': 7, 'course_id': 5, 'title': 'Lesson 7: Python Basics', 'content': 'Getting started with Python.', 'video_url': 'https://example.com/videos/lesson7.mp4', 'duration': 18, 'created_at': datetime.now(), 'updated_at': datetime.now()},\n",
    "    {'lesson_id': 8, 'course_id': 5, 'title': 'Lesson 8: Python Control Flow', 'content': 'If-else and loops.', 'video_url': 'https://example.com/videos/lesson8.mp4', 'duration': 16, 'created_at': datetime.now(), 'updated_at': datetime.now()},\n",
    "    {'lesson_id': 9, 'course_id': 6, 'title': 'Lesson 9: Python Functions', 'content': 'Defining and calling functions.', 'video_url': 'https://example.com/videos/lesson9.mp4', 'duration': 13, 'created_at': datetime.now(), 'updated_at': datetime.now()},\n",
    "    {'lesson_id': 10, 'course_id': 6, 'title': 'Lesson 10: Python Lists', 'content': 'List operations and comprehensions.', 'video_url': 'https://example.com/videos/lesson10.mp4', 'duration': 12, 'created_at': datetime.now(), 'updated_at': datetime.now()},\n",
    "    {'lesson_id': 11, 'course_id': 7, 'title': 'Lesson 11: Working with APIs', 'content': 'What are APIs?', 'video_url': 'https://example.com/videos/lesson11.mp4', 'duration': 14, 'created_at': datetime.now(), 'updated_at': datetime.now()},\n",
    "    {'lesson_id': 12, 'course_id': 7, 'title': 'Lesson 12: REST APIs', 'content': 'How REST APIs work.', 'video_url': 'https://example.com/videos/lesson12.mp4', 'duration': 15, 'created_at': datetime.now(), 'updated_at': datetime.now()},\n",
    "    {'lesson_id': 13, 'course_id': 8, 'title': 'Lesson 13: Flask Intro', 'content': 'Getting started with Flask.', 'video_url': 'https://example.com/videos/lesson13.mp4', 'duration': 12, 'created_at': datetime.now(), 'updated_at': datetime.now()},\n",
    "    {'lesson_id': 14, 'course_id': 8, 'title': 'Lesson 14: Flask Routing', 'content': 'Handling routes.', 'video_url': 'https://example.com/videos/lesson14.mp4', 'duration': 11, 'created_at': datetime.now(), 'updated_at': datetime.now()},\n",
    "    {'lesson_id': 15, 'course_id': 9, 'title': 'Lesson 15: SQL Basics', 'content': 'Intro to SQL.', 'video_url': 'https://example.com/videos/lesson15.mp4', 'duration': 17, 'created_at': datetime.now(), 'updated_at': datetime.now()},\n",
    "    {'lesson_id': 16, 'course_id': 9, 'title': 'Lesson 16: SQL Joins', 'content': 'Combining tables.', 'video_url': 'https://example.com/videos/lesson16.mp4', 'duration': 16, 'created_at': datetime.now(), 'updated_at': datetime.now()},\n",
    "    {'lesson_id': 17, 'course_id': 10, 'title': 'Lesson 17: MongoDB Intro', 'content': 'NoSQL concepts.', 'video_url': 'https://example.com/videos/lesson17.mp4', 'duration': 12, 'created_at': datetime.now(), 'updated_at': datetime.now()},\n",
    "    {'lesson_id': 18, 'course_id': 10, 'title': 'Lesson 18: MongoDB Queries', 'content': 'Basic MongoDB queries.', 'video_url': 'https://example.com/videos/lesson18.mp4', 'duration': 14, 'created_at': datetime.now(), 'updated_at': datetime.now()},\n",
    "    {'lesson_id': 19, 'course_id': 11, 'title': 'Lesson 19: Git Basics', 'content': 'Using Git for version control.', 'video_url': 'https://example.com/videos/lesson19.mp4', 'duration': 10, 'created_at': datetime.now(), 'updated_at': datetime.now()},\n",
    "    {'lesson_id': 20, 'course_id': 11, 'title': 'Lesson 20: Git Branching', 'content': 'Working with branches.', 'video_url': 'https://example.com/videos/lesson20.mp4', 'duration': 12, 'created_at': datetime.now(), 'updated_at': datetime.now()},\n",
    "    {'lesson_id': 21, 'course_id': 12, 'title': 'Lesson 21: Linux Commands', 'content': 'Basic terminal commands.', 'video_url': 'https://example.com/videos/lesson21.mp4', 'duration': 15, 'created_at': datetime.now(), 'updated_at': datetime.now()},\n",
    "    {'lesson_id': 22, 'course_id': 12, 'title': 'Lesson 22: Bash Scripting', 'content': 'Automating with scripts.', 'video_url': 'https://example.com/videos/lesson22.mp4', 'duration': 13, 'created_at': datetime.now(), 'updated_at': datetime.now()},\n",
    "    {'lesson_id': 23, 'course_id': 13, 'title': 'Lesson 23: Java Basics', 'content': 'Getting started with Java.', 'video_url': 'https://example.com/videos/lesson23.mp4', 'duration': 16, 'created_at': datetime.now(), 'updated_at': datetime.now()},\n",
    "    {'lesson_id': 24, 'course_id': 14, 'title': 'Lesson 24: C# Introduction', 'content': 'Understanding C# basics.', 'video_url': 'https://example.com/videos/lesson24.mp4', 'duration': 14, 'created_at': datetime.now(), 'updated_at': datetime.now()},\n",
    "    {'lesson_id': 25, 'course_id': 15, 'title': 'Lesson 25: Data Science Overview', 'content': 'What is data science?', 'video_url': 'https://example.com/videos/lesson25.mp4', 'duration': 17, 'created_at': datetime.now(), 'updated_at': datetime.now()},\n",
    "]"
   ]
  },
  {
   "cell_type": "code",
   "execution_count": 10,
   "id": "acef274b",
   "metadata": {},
   "outputs": [
    {
     "name": "stdout",
     "output_type": "stream",
     "text": [
      "Lessons added!!!\n"
     ]
    }
   ],
   "source": [
    "try:\n",
    "    course_collection = db[\"lessons\"]\n",
    "    insert_course_data = course_collection.insert_many(lessons_data)\n",
    "    print(\"Lessons added!!!\")\n",
    "except Exception as e:\n",
    "    print(f\"Unable to add lessons because of {e}\")"
   ]
  },
  {
   "cell_type": "code",
   "execution_count": 11,
   "id": "785a5166",
   "metadata": {},
   "outputs": [],
   "source": [
    "assignments_data = [\n",
    "    {\n",
    "        'assignment_id': 1,\n",
    "        'course_id': 1,\n",
    "        'title': 'HTML Basics Assignment',\n",
    "        'description': 'Create a simple web page using basic HTML elements.',\n",
    "        'due_date': datetime(2025, 6, 25, 0, 0),\n",
    "        'created_at': datetime(2025, 6, 13, 17, 47, 29, 987382)\n",
    "    },\n",
    "    {\n",
    "        'assignment_id': 2,\n",
    "        'course_id': 2,\n",
    "        'title': 'CSS Styling Project',\n",
    "        'description': 'Style the provided HTML page using CSS to match a given design.',\n",
    "        'due_date': datetime(2025, 6, 26),\n",
    "        'created_at': datetime(2025, 6, 13)\n",
    "    },\n",
    "    {\n",
    "        'assignment_id': 3,\n",
    "        'course_id': 3,\n",
    "        'title': 'JavaScript Variables and Functions',\n",
    "        'description': 'Write a script using functions and variables to simulate a calculator.',\n",
    "        'due_date': datetime(2025, 6, 27),\n",
    "        'created_at': datetime(2025, 6, 13)\n",
    "    },\n",
    "    {\n",
    "        'assignment_id': 4,\n",
    "        'course_id': 4,\n",
    "        'title': 'Python List Operations',\n",
    "        'description': 'Implement a program that manipulates and analyzes lists.',\n",
    "        'due_date': datetime(2025, 6, 28),\n",
    "        'created_at': datetime(2025, 6, 13)\n",
    "    },\n",
    "    {\n",
    "        'assignment_id': 5,\n",
    "        'course_id': 5,\n",
    "        'title': 'Data Cleaning with Pandas',\n",
    "        'description': 'Clean and prepare a dataset using Pandas techniques.',\n",
    "        'due_date': datetime(2025, 6, 29),\n",
    "        'created_at': datetime(2025, 6, 13)\n",
    "    },\n",
    "    {\n",
    "        'assignment_id': 6,\n",
    "        'course_id': 6,\n",
    "        'title': 'SQL Query Practice',\n",
    "        'description': 'Write SQL queries to retrieve and manipulate data from a sample database.',\n",
    "        'due_date': datetime(2025, 6, 30),\n",
    "        'created_at': datetime(2025, 6, 13)\n",
    "    },\n",
    "    {\n",
    "        'assignment_id': 7,\n",
    "        'course_id': 7,\n",
    "        'title': 'MongoDB CRUD Operations',\n",
    "        'description': 'Create and update documents in a MongoDB collection.',\n",
    "        'due_date': datetime(2025, 7, 1),\n",
    "        'created_at': datetime(2025, 6, 13)\n",
    "    },\n",
    "    {\n",
    "        'assignment_id': 8,\n",
    "        'course_id': 8,\n",
    "        'title': 'Building Django Models',\n",
    "        'description': 'Define Django models for a blogging application.',\n",
    "        'due_date': datetime(2025, 7, 2),\n",
    "        'created_at': datetime(2025, 6, 13)\n",
    "    },\n",
    "    {\n",
    "        'assignment_id': 9,\n",
    "        'course_id': 9,\n",
    "        'title': 'API Design with FastAPI',\n",
    "        'description': 'Design and test a RESTful API using FastAPI.',\n",
    "        'due_date': datetime(2025, 7, 3),\n",
    "        'created_at': datetime(2025, 6, 13)\n",
    "    },\n",
    "    {\n",
    "        'assignment_id': 10,\n",
    "        'course_id': 10,\n",
    "        'title': 'Data Analysis with Python',\n",
    "        'description': 'Analyze a dataset and provide insights using charts and graphs.',\n",
    "        'due_date': datetime(2025, 7, 4),\n",
    "        'created_at': datetime(2025, 6, 13)\n",
    "    },\n",
    "]"
   ]
  },
  {
   "cell_type": "code",
   "execution_count": 12,
   "id": "7c224427",
   "metadata": {},
   "outputs": [
    {
     "name": "stdout",
     "output_type": "stream",
     "text": [
      "Assignments added!!!\n"
     ]
    }
   ],
   "source": [
    "try:\n",
    "    course_collection = db[\"assignments\"]\n",
    "    insert_course_data = course_collection.insert_many(assignments_data)\n",
    "    print(\"Assignments added!!!\")\n",
    "except Exception as e:\n",
    "    print(f\"Unable to add assignment because of {e}\")"
   ]
  },
  {
   "cell_type": "code",
   "execution_count": 13,
   "id": "14469ba6",
   "metadata": {},
   "outputs": [],
   "source": [
    "submissions_data = [\n",
    "    {\n",
    "        'submission_id': 1,\n",
    "        'assignment_id': 1,\n",
    "        'student_id': 4,\n",
    "        'content': 'Implemented basic Python functions with comments and examples.',\n",
    "        'submitted_at': datetime(2025, 6, 14, 15, 44, 53),\n",
    "        'grade': 60.0,\n",
    "        'feedback': 'Good start, but missing function docstrings and test cases.'\n",
    "    },\n",
    "    {\n",
    "        'submission_id': 2,\n",
    "        'assignment_id': 2,\n",
    "        'student_id': 7,\n",
    "        'content': 'Analyzed sales data using Pandas and visualized it with Matplotlib.',\n",
    "        'submitted_at': datetime(2025, 6, 13, 18, 12, 25),\n",
    "        'grade': 85.5,\n",
    "        'feedback': 'Excellent analysis. Consider commenting your code more clearly.'\n",
    "    },\n",
    "    {\n",
    "        'submission_id': 3,\n",
    "        'assignment_id': 1,\n",
    "        'student_id': 5,\n",
    "        'content': 'Built a simple calculator app in Python using functions.',\n",
    "        'submitted_at': datetime(2025, 6, 13, 19, 5, 10),\n",
    "        'grade': 75.0,\n",
    "        'feedback': 'Nice effort. Variable naming could be improved for clarity.'\n",
    "    },\n",
    "    {\n",
    "        'submission_id': 4,\n",
    "        'assignment_id': 3,\n",
    "        'student_id': 2,\n",
    "        'content': 'Styled a webpage using HTML and CSS with responsive layout.',\n",
    "        'submitted_at': datetime(2025, 6, 12, 16, 30, 0),\n",
    "        'grade': 90.0,\n",
    "        'feedback': 'Great design and layout. Responsiveness was implemented well.'\n",
    "    },\n",
    "    {\n",
    "        'submission_id': 5,\n",
    "        'assignment_id': 4,\n",
    "        'student_id': 8,\n",
    "        'content': 'Wrote a JavaScript function to dynamically update webpage content.',\n",
    "        'submitted_at': datetime(2025, 6, 13, 14, 20, 45),\n",
    "        'grade': 70.5,\n",
    "        'feedback': 'Function works correctly, but lacks input validation.'\n",
    "    },\n",
    "    {\n",
    "        'submission_id': 6,\n",
    "        'assignment_id': 2,\n",
    "        'student_id': 3,\n",
    "        'content': 'Cleaned and visualized customer churn dataset using Pandas.',\n",
    "        'submitted_at': datetime(2025, 6, 13, 17, 15, 33),\n",
    "        'grade': 82.0,\n",
    "        'feedback': 'Well done. Great use of groupby and plotting techniques.'\n",
    "    },\n",
    "    {\n",
    "        'submission_id': 7,\n",
    "        'assignment_id': 5,\n",
    "        'student_id': 6,\n",
    "        'content': 'Created a React component for a to-do list application.',\n",
    "        'submitted_at': datetime(2025, 6, 14, 11, 0, 0),\n",
    "        'grade': 92.5,\n",
    "        'feedback': 'Excellent use of hooks and component structure.'\n",
    "    },\n",
    "    {\n",
    "        'submission_id': 8,\n",
    "        'assignment_id': 6,\n",
    "        'student_id': 9,\n",
    "        'content': 'Built a classification model using scikit-learn on the Iris dataset.',\n",
    "        'submitted_at': datetime(2025, 6, 13, 13, 42, 10),\n",
    "        'grade': 88.0,\n",
    "        'feedback': 'Model accuracy was good. Feature engineering can be improved.'\n",
    "    },\n",
    "    {\n",
    "        'submission_id': 9,\n",
    "        'assignment_id': 7,\n",
    "        'student_id': 1,\n",
    "        'content': 'Designed an ER diagram and normalized a sample database.',\n",
    "        'submitted_at': datetime(2025, 6, 12, 9, 15, 0),\n",
    "        'grade': 78.0,\n",
    "        'feedback': 'Normalization was accurate. Diagram could use clearer labels.'\n",
    "    },\n",
    "    {\n",
    "        'submission_id': 10,\n",
    "        'assignment_id': 8,\n",
    "        'student_id': 10,\n",
    "        'content': 'Outlined basic cybersecurity protocols for network safety.',\n",
    "        'submitted_at': datetime(2025, 6, 13, 16, 25, 50),\n",
    "        'grade': 69.5,\n",
    "        'feedback': 'Content is relevant, but examples were too general.'\n",
    "    },\n",
    "    {\n",
    "        'submission_id': 11,\n",
    "        'assignment_id': 3,\n",
    "        'student_id': 4,\n",
    "        'content': 'Created a fully functional multi-page HTML site with media queries.',\n",
    "        'submitted_at': datetime(2025, 6, 14, 10, 12, 18),\n",
    "        'grade': 91.0,\n",
    "        'feedback': 'Impressive work! Responsive layout and accessibility were well addressed.'\n",
    "    },\n",
    "    {\n",
    "        'submission_id': 12,\n",
    "        'assignment_id': 6,\n",
    "        'student_id': 7,\n",
    "        'content': 'Trained and tuned a decision tree model on a marketing dataset.',\n",
    "        'submitted_at': datetime(2025, 6, 13, 15, 57, 39),\n",
    "        'grade': 86.5,\n",
    "        'feedback': 'Well-structured submission with clear explanation of parameters.'\n",
    "    }\n",
    "]"
   ]
  },
  {
   "cell_type": "code",
   "execution_count": 14,
   "id": "3c0b1a98",
   "metadata": {},
   "outputs": [
    {
     "name": "stdout",
     "output_type": "stream",
     "text": [
      "Submission added!!!\n"
     ]
    }
   ],
   "source": [
    "try:\n",
    "    course_collection = db[\"submissions\"]\n",
    "    insert_course_data = course_collection.insert_many(submissions_data)\n",
    "    print(\"Submission added!!!\")\n",
    "except Exception as e:\n",
    "    print(f\"Unable to add submission because of {e}\")"
   ]
  },
  {
   "cell_type": "code",
   "execution_count": 15,
   "id": "5b905c4f",
   "metadata": {},
   "outputs": [
    {
     "name": "stdout",
     "output_type": "stream",
     "text": [
      "New student added!!!\n"
     ]
    }
   ],
   "source": [
    "# Task 3.1: Create Operations\n",
    "# 1. Add a new student user\n",
    "try:\n",
    "    insert_new_student = db.users.insert_one({\"user_id\": 21, \"full_name\": \"Folarin Shade\", \"email\": \"folashade@gmail.com\", \"role\": \"student\", \"dateJoined\": datetime.now(), \"profile\": {\n",
    "            \"bio\": \"I am Shade, a frontend dev student.\",\n",
    "            \"avatar\": \"https://example.com/avatar1.jpg\",\n",
    "            \"skills\": [\"Python\", \"HTML\", \"CSS\", \"JavaScript\"]\n",
    "        }, 'is_active': 'True'})\n",
    "    print(f\"New student added!!!\")\n",
    "except Exception as e:\n",
    "    print(f\"Unable to add new student because of {e}\")"
   ]
  },
  {
   "cell_type": "code",
   "execution_count": null,
   "id": "d6914bb0",
   "metadata": {},
   "outputs": [
    {
     "name": "stdout",
     "output_type": "stream",
     "text": [
      "New course, with this details InsertOneResult(ObjectId('684dc6dde797b6585cb6c614'), acknowledged=True) added!!!\n"
     ]
    }
   ],
   "source": [
    " # 2. Create a new course\n",
    "try:\n",
    "    insert_new_course = db.courses.insert_one({\n",
    "        \"course_id\": 21,\n",
    "        \"title\": \"Advanced React Development\",\n",
    "        \"description\": \"Deep dive into React with hooks and state management.\",\n",
    "        \"instructor_id\": 13,\n",
    "        \"category\": \"Frontend Development\",\n",
    "        \"level\": \"advanced\",\n",
    "        \"duration\": 25,\n",
    "        \"price\": 89.99,\n",
    "        \"tags\": [\"React\", \"Hooks\", \"State Management\"],\n",
    "        \"created_at\": datetime.now(),\n",
    "        \"updated_at\": datetime.now(),\n",
    "        \"is_published\": True\n",
    "    })\n",
    "    print(f\"New course, with this details {insert_new_course} added!!!\")\n",
    "except Exception as e:\n",
    "    print(f\"Unable to add new course because of {e}\")"
   ]
  },
  {
   "cell_type": "code",
   "execution_count": null,
   "id": "c8126407",
   "metadata": {},
   "outputs": [
    {
     "name": "stdout",
     "output_type": "stream",
     "text": [
      "New enrollment added!!!\n"
     ]
    }
   ],
   "source": [
    "# 3. Enroll a student in a course\n",
    "try:\n",
    "    insert_new_enrollment = db.enrollments.insert_one({\n",
    "        \"enrollment_id\": 21,\n",
    "        \"student_id\": 21, \n",
    "        \"course_id\": 1, \n",
    "        \"enrolled_at\": datetime.now(),\n",
    "        \"is_active\": True\n",
    "    })\n",
    "    print(f\"New enrollment added!!!\")\n",
    "except Exception as e:\n",
    "    print(f\"Unable to add new enrollment because of {e}\")"
   ]
  },
  {
   "cell_type": "code",
   "execution_count": 18,
   "id": "dc48589f",
   "metadata": {},
   "outputs": [
    {
     "name": "stdout",
     "output_type": "stream",
     "text": [
      "New lesson added!!!\n"
     ]
    }
   ],
   "source": [
    "# 4. Add a new lesson to an existing course\n",
    "try:\n",
    "    insert_new_lesson = db.lessons.insert_one({\n",
    "        'lesson_id': 21,\n",
    "        'course_id': 1,  \n",
    "        'title': 'Lesson 21: Advanced Python Concepts',\n",
    "        'content': 'This lesson covers advanced topics in Python programming.',\n",
    "        'video_url': 'https://example.com/videos/lesson21.mp4',\n",
    "        'duration': 30,\n",
    "        'created_at': datetime.now(),\n",
    "        'updated_at': datetime.now()\n",
    "    })\n",
    "    print(f\"New lesson added!!!\")\n",
    "except Exception as e:\n",
    "    print(f\"Unable to add new lesson because of {e}\")"
   ]
  },
  {
   "cell_type": "code",
   "execution_count": 19,
   "id": "8b17b3ae",
   "metadata": {},
   "outputs": [
    {
     "name": "stdout",
     "output_type": "stream",
     "text": [
      "Active Students:\n",
      "{'_id': ObjectId('684dc6dbe797b6585cb6c5ba'), 'user_id': 2, 'full_name': 'Isaac Brown', 'email': 'isaacb@gmail.com', 'role': 'student', 'dateJoined': datetime.datetime(2025, 6, 14, 20, 0, 43, 584000), 'profile': {'bio': 'Student passionate about backend development.', 'avatar': 'https://example.com/avatar2.jpg', 'skills': ['Python', 'Flask', 'Docker']}, 'is_active': 'True'}\n",
      "{'_id': ObjectId('684dc6dbe797b6585cb6c5bc'), 'user_id': 4, 'full_name': 'Emeka Obi', 'email': 'emeka@gmail.com', 'role': 'student', 'dateJoined': datetime.datetime(2025, 6, 14, 20, 0, 43, 584000), 'profile': {'bio': 'Learning data analysis and visualization.', 'avatar': 'https://example.com/avatar4.jpg', 'skills': ['Excel', 'Power BI', 'SQL']}, 'is_active': 'True'}\n",
      "{'_id': ObjectId('684dc6dbe797b6585cb6c5be'), 'user_id': 6, 'full_name': 'John Doe', 'email': 'jdoe@gmail.com', 'role': 'student', 'dateJoined': datetime.datetime(2025, 6, 14, 20, 0, 43, 584000), 'profile': {'bio': 'Exploring web development fundamentals.', 'avatar': 'https://example.com/avatar6.jpg', 'skills': ['HTML', 'CSS', 'JavaScript']}, 'is_active': 'True'}\n",
      "{'_id': ObjectId('684dc6dbe797b6585cb6c5c0'), 'user_id': 8, 'full_name': 'Samuel Kim', 'email': 'samkim@gmail.com', 'role': 'student', 'dateJoined': datetime.datetime(2025, 6, 14, 20, 0, 43, 584000), 'profile': {'bio': 'Interested in automation and scripting.', 'avatar': 'https://example.com/avatar8.jpg', 'skills': ['Python', 'Bash', 'Git']}, 'is_active': 'True'}\n",
      "{'_id': ObjectId('684dc6dbe797b6585cb6c5c2'), 'user_id': 10, 'full_name': 'Michael Chen', 'email': 'mchen@gmail.com', 'role': 'student', 'dateJoined': datetime.datetime(2025, 6, 14, 20, 0, 43, 584000), 'profile': {'bio': 'Pursuing a path in AI and deep learning.', 'avatar': 'https://example.com/avatar10.jpg', 'skills': ['TensorFlow', 'Keras', 'Python']}, 'is_active': 'True'}\n",
      "{'_id': ObjectId('684dc6dbe797b6585cb6c5c4'), 'user_id': 12, 'full_name': 'Omar Diallo', 'email': 'omard@gmail.com', 'role': 'student', 'dateJoined': datetime.datetime(2025, 6, 14, 20, 0, 43, 584000), 'profile': {'bio': 'Learning APIs and backend development.', 'avatar': 'https://example.com/avatar12.jpg', 'skills': ['Node.js', 'Express', 'MongoDB']}, 'is_active': 'True'}\n",
      "{'_id': ObjectId('684dc6dbe797b6585cb6c5c6'), 'user_id': 14, 'full_name': 'Aliyu Musa', 'email': 'aliyum@gmail.com', 'role': 'student', 'dateJoined': datetime.datetime(2025, 6, 14, 20, 0, 43, 584000), 'profile': {'bio': 'Beginner exploring full-stack development.', 'avatar': 'https://example.com/avatar14.jpg', 'skills': ['Python', 'React', 'Django']}, 'is_active': 'True'}\n",
      "{'_id': ObjectId('684dc6dbe797b6585cb6c5c8'), 'user_id': 16, 'full_name': 'Peter Obi', 'email': 'petero@gmail.com', 'role': 'student', 'dateJoined': datetime.datetime(2025, 6, 14, 20, 0, 43, 584000), 'profile': {'bio': 'Student aiming to become a DevOps engineer.', 'avatar': 'https://example.com/avatar16.jpg', 'skills': ['Docker', 'Kubernetes', 'CI/CD']}, 'is_active': 'True'}\n",
      "{'_id': ObjectId('684dc6dbe797b6585cb6c5ca'), 'user_id': 18, 'full_name': 'Mariam Jatta', 'email': 'mariamj@gmail.com', 'role': 'student', 'dateJoined': datetime.datetime(2025, 6, 14, 20, 0, 43, 584000), 'profile': {'bio': 'Exploring app development and design.', 'avatar': 'https://example.com/avatar18.jpg', 'skills': ['Flutter', 'Dart', 'Firebase']}, 'is_active': 'True'}\n",
      "{'_id': ObjectId('684dc6dbe797b6585cb6c5cc'), 'user_id': 20, 'full_name': 'Chinwe Okeke', 'email': 'chinweo@gmail.com', 'role': 'student', 'dateJoined': datetime.datetime(2025, 6, 14, 20, 0, 43, 584000), 'profile': {'bio': 'Interested in cybersecurity and networking.', 'avatar': 'https://example.com/avatar20.jpg', 'skills': ['Wireshark', 'Linux', 'Python']}, 'is_active': 'True'}\n",
      "{'_id': ObjectId('684dc6dde797b6585cb6c613'), 'user_id': 21, 'full_name': 'Folarin Shade', 'email': 'folashade@gmail.com', 'role': 'student', 'dateJoined': datetime.datetime(2025, 6, 14, 20, 0, 45, 210000), 'profile': {'bio': 'I am Shade, a frontend dev student.', 'avatar': 'https://example.com/avatar1.jpg', 'skills': ['Python', 'HTML', 'CSS', 'JavaScript']}, 'is_active': 'True'}\n"
     ]
    }
   ],
   "source": [
    "# Task 3.2: Read Operations\n",
    "# 1. Find all active students\n",
    "try:\n",
    "    active_students = db.users.find({\"role\": \"student\", \"is_active\": 'True'})\n",
    "    print(\"Active Students:\")\n",
    "    for student in active_students:\n",
    "        print(student)\n",
    "except Exception as e:\n",
    "    print(f\"Unable to retrieve active students because of {e}\")"
   ]
  },
  {
   "cell_type": "code",
   "execution_count": 20,
   "id": "4de5fa8a",
   "metadata": {},
   "outputs": [
    {
     "name": "stdout",
     "output_type": "stream",
     "text": [
      "Courses with Instructor Information:\n",
      "{'_id': ObjectId('684dc6dce797b6585cb6c5cd'), 'course_id': 1, 'title': 'Introduction to Python', 'description': 'Learn the basics of Python programming.', 'instructor_id': 1, 'category': 'Programming', 'level': 'beginner', 'duration': 10, 'price': 49.99, 'tags': ['Python', 'Programming', 'Beginner'], 'created_at': datetime.datetime(2025, 6, 14, 20, 0, 43, 846000), 'updated_at': datetime.datetime(2025, 6, 14, 20, 0, 43, 846000), 'is_published': True, 'rating': 4.7, 'instructor_info': {'_id': ObjectId('684dc6dbe797b6585cb6c5b9'), 'user_id': 1, 'full_name': 'Dorcas Williams', 'email': 'dorcas@gmail.com', 'role': 'instructor', 'dateJoined': datetime.datetime(2025, 6, 14, 20, 0, 43, 584000), 'profile': {'bio': 'I am Dorcas, an instructor at this academy.', 'avatar': 'https://example.com/avatar1.jpg', 'skills': ['Python', 'MongoDB', 'SQL', 'JavaScript']}, 'is_active': 'True'}}\n",
      "{'_id': ObjectId('684dc6dce797b6585cb6c5ce'), 'course_id': 2, 'title': 'Data Analysis with Pandas', 'description': 'Analyze data efficiently using Pandas library.', 'instructor_id': 5, 'category': 'Data Science', 'level': 'intermediate', 'duration': 8, 'price': 59.99, 'tags': ['Data Science', 'Pandas', 'Analysis'], 'created_at': datetime.datetime(2025, 6, 14, 20, 0, 43, 846000), 'updated_at': datetime.datetime(2025, 6, 14, 20, 0, 43, 846000), 'is_published': True, 'rating': 4.6, 'instructor_info': {'_id': ObjectId('684dc6dbe797b6585cb6c5bd'), 'user_id': 5, 'full_name': 'Aisha Bello', 'email': 'aisha@gmail.com', 'role': 'instructor', 'dateJoined': datetime.datetime(2025, 6, 14, 20, 0, 43, 584000), 'profile': {'bio': 'Mentor in machine learning and Python.', 'avatar': 'https://example.com/avatar5.jpg', 'skills': ['Python', 'Scikit-learn', 'Pandas', 'NumPy']}, 'is_active': 'True'}}\n",
      "{'_id': ObjectId('684dc6dce797b6585cb6c5cf'), 'course_id': 3, 'title': 'Web Development with HTML & CSS', 'description': 'Build modern websites using HTML and CSS.', 'instructor_id': 13, 'category': 'Web Development', 'level': 'beginner', 'duration': 12, 'price': 39.99, 'tags': ['HTML', 'CSS', 'Frontend'], 'created_at': datetime.datetime(2025, 6, 14, 20, 0, 43, 846000), 'updated_at': datetime.datetime(2025, 6, 14, 20, 0, 43, 846000), 'is_published': True, 'rating': 4.8, 'instructor_info': {'_id': ObjectId('684dc6dbe797b6585cb6c5c5'), 'user_id': 13, 'full_name': 'Janet Mensah', 'email': 'janetm@gmail.com', 'role': 'instructor', 'dateJoined': datetime.datetime(2025, 6, 14, 20, 0, 43, 584000), 'profile': {'bio': 'Frontend expert and UI/UX enthusiast.', 'avatar': 'https://example.com/avatar13.jpg', 'skills': ['HTML', 'CSS', 'Figma', 'React']}, 'is_active': 'True'}}\n",
      "{'_id': ObjectId('684dc6dce797b6585cb6c5d0'), 'course_id': 4, 'title': 'JavaScript Essentials', 'description': 'Understand JavaScript for interactive web pages.', 'instructor_id': 3, 'category': 'Programming', 'level': 'beginner', 'duration': 14, 'price': 44.99, 'tags': ['JavaScript', 'Frontend'], 'created_at': datetime.datetime(2025, 6, 14, 20, 0, 43, 846000), 'updated_at': datetime.datetime(2025, 6, 14, 20, 0, 43, 846000), 'is_published': True, 'rating': 4.5, 'instructor_info': {'_id': ObjectId('684dc6dbe797b6585cb6c5bb'), 'user_id': 3, 'full_name': 'Clara Osei', 'email': 'clarao@gmail.com', 'role': 'instructor', 'dateJoined': datetime.datetime(2025, 6, 14, 20, 0, 43, 584000), 'profile': {'bio': 'Teaching JavaScript and frontend frameworks.', 'avatar': 'https://example.com/avatar3.jpg', 'skills': ['JavaScript', 'React', 'HTML', 'CSS']}, 'is_active': 'True'}}\n",
      "{'_id': ObjectId('684dc6dce797b6585cb6c5d1'), 'course_id': 5, 'title': 'React for Beginners', 'description': 'Build responsive web apps using React.', 'instructor_id': 13, 'category': 'Frontend Development', 'level': 'intermediate', 'duration': 15, 'price': 69.99, 'tags': ['React', 'JavaScript', 'Frontend'], 'created_at': datetime.datetime(2025, 6, 14, 20, 0, 43, 846000), 'updated_at': datetime.datetime(2025, 6, 14, 20, 0, 43, 846000), 'is_published': True, 'rating': 4.9, 'instructor_info': {'_id': ObjectId('684dc6dbe797b6585cb6c5c5'), 'user_id': 13, 'full_name': 'Janet Mensah', 'email': 'janetm@gmail.com', 'role': 'instructor', 'dateJoined': datetime.datetime(2025, 6, 14, 20, 0, 43, 584000), 'profile': {'bio': 'Frontend expert and UI/UX enthusiast.', 'avatar': 'https://example.com/avatar13.jpg', 'skills': ['HTML', 'CSS', 'Figma', 'React']}, 'is_active': 'True'}}\n",
      "{'_id': ObjectId('684dc6dce797b6585cb6c5d2'), 'course_id': 6, 'title': 'Advanced Machine Learning', 'description': 'Dive deep into ML algorithms and model tuning.', 'instructor_id': 5, 'category': 'Data Science', 'level': 'advanced', 'duration': 20, 'price': 99.99, 'tags': ['ML', 'AI', 'Scikit-learn'], 'created_at': datetime.datetime(2025, 6, 14, 20, 0, 43, 846000), 'updated_at': datetime.datetime(2025, 6, 14, 20, 0, 43, 846000), 'is_published': True, 'rating': 4.6, 'instructor_info': {'_id': ObjectId('684dc6dbe797b6585cb6c5bd'), 'user_id': 5, 'full_name': 'Aisha Bello', 'email': 'aisha@gmail.com', 'role': 'instructor', 'dateJoined': datetime.datetime(2025, 6, 14, 20, 0, 43, 584000), 'profile': {'bio': 'Mentor in machine learning and Python.', 'avatar': 'https://example.com/avatar5.jpg', 'skills': ['Python', 'Scikit-learn', 'Pandas', 'NumPy']}, 'is_active': 'True'}}\n",
      "{'_id': ObjectId('684dc6dce797b6585cb6c5d3'), 'course_id': 7, 'title': 'Database Design with SQL', 'description': 'Design and query relational databases effectively.', 'instructor_id': 9, 'category': 'Databases', 'level': 'intermediate', 'duration': 10, 'price': 55.0, 'tags': ['SQL', 'Database', 'Design'], 'created_at': datetime.datetime(2025, 6, 14, 20, 0, 43, 846000), 'updated_at': datetime.datetime(2025, 6, 14, 20, 0, 43, 846000), 'is_published': True, 'rating': 4.4, 'instructor_info': {'_id': ObjectId('684dc6dbe797b6585cb6c5c1'), 'user_id': 9, 'full_name': 'Fatima Yusuf', 'email': 'fatima@gmail.com', 'role': 'instructor', 'dateJoined': datetime.datetime(2025, 6, 14, 20, 0, 43, 584000), 'profile': {'bio': 'Instructor focused on database design.', 'avatar': 'https://example.com/avatar9.jpg', 'skills': ['MySQL', 'PostgreSQL', 'MongoDB']}, 'is_active': 'True'}}\n",
      "{'_id': ObjectId('684dc6dce797b6585cb6c5d4'), 'course_id': 8, 'title': 'Cybersecurity Fundamentals', 'description': 'Protect systems with foundational security concepts.', 'instructor_id': 15, 'category': 'Security', 'level': 'beginner', 'duration': 9, 'price': 65.5, 'tags': ['Security', 'Network', 'Linux'], 'created_at': datetime.datetime(2025, 6, 14, 20, 0, 43, 846000), 'updated_at': datetime.datetime(2025, 6, 14, 20, 0, 43, 846000), 'is_published': True, 'rating': 4.3, 'instructor_info': {'_id': ObjectId('684dc6dbe797b6585cb6c5c7'), 'user_id': 15, 'full_name': 'Sarah Njeri', 'email': 'sarahn@gmail.com', 'role': 'instructor', 'dateJoined': datetime.datetime(2025, 6, 14, 20, 0, 43, 584000), 'profile': {'bio': 'Cybersecurity instructor with 5 years of experience.', 'avatar': 'https://example.com/avatar15.jpg', 'skills': ['Network Security', 'Linux', 'Python']}, 'is_active': 'True'}}\n",
      "{'_id': ObjectId('684dc6dde797b6585cb6c614'), 'course_id': 21, 'title': 'Advanced React Development', 'description': 'Deep dive into React with hooks and state management.', 'instructor_id': 13, 'category': 'Frontend Development', 'level': 'advanced', 'duration': 25, 'price': 89.99, 'tags': ['React', 'Hooks', 'State Management'], 'created_at': datetime.datetime(2025, 6, 14, 20, 0, 45, 273000), 'updated_at': datetime.datetime(2025, 6, 14, 20, 0, 45, 273000), 'is_published': True, 'instructor_info': {'_id': ObjectId('684dc6dbe797b6585cb6c5c5'), 'user_id': 13, 'full_name': 'Janet Mensah', 'email': 'janetm@gmail.com', 'role': 'instructor', 'dateJoined': datetime.datetime(2025, 6, 14, 20, 0, 43, 584000), 'profile': {'bio': 'Frontend expert and UI/UX enthusiast.', 'avatar': 'https://example.com/avatar13.jpg', 'skills': ['HTML', 'CSS', 'Figma', 'React']}, 'is_active': 'True'}}\n"
     ]
    }
   ],
   "source": [
    "# 2. Retrieve course details with instructor information\n",
    "try:\n",
    "    courses_with_instructors = db.courses.aggregate([\n",
    "        {\n",
    "            \"$lookup\": {\n",
    "                \"from\": \"users\",\n",
    "                \"localField\": \"instructor_id\",\n",
    "                \"foreignField\": \"user_id\",\n",
    "                \"as\": \"instructor_info\"\n",
    "            }\n",
    "        },\n",
    "        {\n",
    "            \"$unwind\": \"$instructor_info\"\n",
    "        }\n",
    "    ])\n",
    "    print(\"Courses with Instructor Information:\")\n",
    "    for course in courses_with_instructors:\n",
    "        print(course)\n",
    "except Exception as e:\n",
    "    print(f\"Unable to retrieve courses with instructor information because of {e}\")"
   ]
  },
  {
   "cell_type": "code",
   "execution_count": 21,
   "id": "bb66ac6d",
   "metadata": {},
   "outputs": [
    {
     "name": "stdout",
     "output_type": "stream",
     "text": [
      "Courses in Data Science Category:\n",
      "{'_id': ObjectId('684dc6dce797b6585cb6c5ce'), 'course_id': 2, 'title': 'Data Analysis with Pandas', 'description': 'Analyze data efficiently using Pandas library.', 'instructor_id': 5, 'category': 'Data Science', 'level': 'intermediate', 'duration': 8, 'price': 59.99, 'tags': ['Data Science', 'Pandas', 'Analysis'], 'created_at': datetime.datetime(2025, 6, 14, 20, 0, 43, 846000), 'updated_at': datetime.datetime(2025, 6, 14, 20, 0, 43, 846000), 'is_published': True, 'rating': 4.6}\n",
      "{'_id': ObjectId('684dc6dce797b6585cb6c5d2'), 'course_id': 6, 'title': 'Advanced Machine Learning', 'description': 'Dive deep into ML algorithms and model tuning.', 'instructor_id': 5, 'category': 'Data Science', 'level': 'advanced', 'duration': 20, 'price': 99.99, 'tags': ['ML', 'AI', 'Scikit-learn'], 'created_at': datetime.datetime(2025, 6, 14, 20, 0, 43, 846000), 'updated_at': datetime.datetime(2025, 6, 14, 20, 0, 43, 846000), 'is_published': True, 'rating': 4.6}\n"
     ]
    }
   ],
   "source": [
    "# 3. Get all courses in a specific category\n",
    "try:\n",
    "    category = \"Data Science\"  \n",
    "    courses_in_category = db.courses.find({\"category\": category})\n",
    "    print(f\"Courses in {category} Category:\")\n",
    "    for course in courses_in_category:\n",
    "        print(course)\n",
    "except Exception as e:\n",
    "    print(f\"Unable to retrieve courses in category {category} because of {e}\")"
   ]
  },
  {
   "cell_type": "code",
   "execution_count": 22,
   "id": "4113d5f2",
   "metadata": {},
   "outputs": [
    {
     "name": "stdout",
     "output_type": "stream",
     "text": [
      "Students enrolled in Course ID 1:\n",
      "{'_id': ObjectId('684dc6dce797b6585cb6c5d5'), 'enrollment_id': 1, 'student_id': 4, 'course_id': 1, 'enrolled_at': datetime.datetime(2025, 6, 14, 20, 0, 44, 389000), 'is_active': True, 'student_info': {'_id': ObjectId('684dc6dbe797b6585cb6c5bc'), 'user_id': 4, 'full_name': 'Emeka Obi', 'email': 'emeka@gmail.com', 'role': 'student', 'dateJoined': datetime.datetime(2025, 6, 14, 20, 0, 43, 584000), 'profile': {'bio': 'Learning data analysis and visualization.', 'avatar': 'https://example.com/avatar4.jpg', 'skills': ['Excel', 'Power BI', 'SQL']}, 'is_active': 'True'}}\n",
      "{'_id': ObjectId('684dc6dde797b6585cb6c615'), 'enrollment_id': 21, 'student_id': 21, 'course_id': 1, 'enrolled_at': datetime.datetime(2025, 6, 14, 20, 0, 45, 360000), 'is_active': True, 'student_info': {'_id': ObjectId('684dc6dde797b6585cb6c613'), 'user_id': 21, 'full_name': 'Folarin Shade', 'email': 'folashade@gmail.com', 'role': 'student', 'dateJoined': datetime.datetime(2025, 6, 14, 20, 0, 45, 210000), 'profile': {'bio': 'I am Shade, a frontend dev student.', 'avatar': 'https://example.com/avatar1.jpg', 'skills': ['Python', 'HTML', 'CSS', 'JavaScript']}, 'is_active': 'True'}}\n"
     ]
    }
   ],
   "source": [
    "# 4. Find students enrolled in a particular course\n",
    "try:\n",
    "    course_id = 1  \n",
    "    enrolled_students = db.enrollments.aggregate([\n",
    "        {\"$match\": {\"course_id\": course_id}},\n",
    "        {\n",
    "            \"$lookup\": {\n",
    "                \"from\": \"users\",\n",
    "                \"localField\": \"student_id\",\n",
    "                \"foreignField\": \"user_id\",\n",
    "                \"as\": \"student_info\"\n",
    "            }\n",
    "        },\n",
    "        {\"$unwind\": \"$student_info\"}\n",
    "    ])\n",
    "    print(f\"Students enrolled in Course ID {course_id}:\")\n",
    "    for enrollment in enrolled_students:\n",
    "        print(enrollment)\n",
    "except Exception as e:\n",
    "    print(f\"Unable to retrieve students enrolled in course {course_id} because of {e}\")"
   ]
  },
  {
   "cell_type": "code",
   "execution_count": 23,
   "id": "79ac7404",
   "metadata": {},
   "outputs": [
    {
     "name": "stdout",
     "output_type": "stream",
     "text": [
      "Courses matching 'Python':\n",
      "{'_id': ObjectId('684dc6dce797b6585cb6c5cd'), 'course_id': 1, 'title': 'Introduction to Python', 'description': 'Learn the basics of Python programming.', 'instructor_id': 1, 'category': 'Programming', 'level': 'beginner', 'duration': 10, 'price': 49.99, 'tags': ['Python', 'Programming', 'Beginner'], 'created_at': datetime.datetime(2025, 6, 14, 20, 0, 43, 846000), 'updated_at': datetime.datetime(2025, 6, 14, 20, 0, 43, 846000), 'is_published': True, 'rating': 4.7}\n"
     ]
    }
   ],
   "source": [
    "# 5. Search courses by title (case-insensitive, partial match)\n",
    "try:\n",
    "    search_title = \"Python\"  \n",
    "    matching_courses = db.courses.find({\"title\": {\"$regex\": search_title, \"$options\": \"i\"}})\n",
    "    print(f\"Courses matching '{search_title}':\")\n",
    "    for course in matching_courses:\n",
    "        print(course)\n",
    "except Exception as e:\n",
    "    print(f\"Unable to search courses by title '{search_title}' because of {e}\")"
   ]
  },
  {
   "cell_type": "code",
   "execution_count": 24,
   "id": "998c700f",
   "metadata": {},
   "outputs": [
    {
     "name": "stdout",
     "output_type": "stream",
     "text": [
      "User profile updated successfully for user_id 21!\n"
     ]
    }
   ],
   "source": [
    "# Task 3.3: Update Operations\n",
    "# 1. Update a user’s profile information\n",
    "try:\n",
    "    user_id_to_update = 21  \n",
    "    updated_profile = {\n",
    "        \"bio\": \"I am Shade, a frontend dev student with a passion for design.\",\n",
    "        \"avatar\": \"https://example.com/new_avatar1.jpg\",\n",
    "        \"skills\": [\"Python\", \"HTML\", \"CSS\", \"JavaScript\", \"React\"]\n",
    "    }\n",
    "    update_result = db.users.update_one(\n",
    "        {\"user_id\": user_id_to_update},\n",
    "        {\"$set\": {\"profile\": updated_profile}}\n",
    "    )\n",
    "    if update_result.modified_count > 0:\n",
    "        print(f\"User profile updated successfully for user_id {user_id_to_update}!\")\n",
    "    else:\n",
    "        print(f\"No changes made to the profile of user_id {user_id_to_update}.\")\n",
    "except Exception as e:\n",
    "    print(f\"Unable to update user profile for user_id {user_id_to_update} because of {e}\")"
   ]
  },
  {
   "cell_type": "code",
   "execution_count": 25,
   "id": "eed50b46",
   "metadata": {},
   "outputs": [
    {
     "name": "stdout",
     "output_type": "stream",
     "text": [
      "No changes made to the course ID 10.\n"
     ]
    }
   ],
   "source": [
    "# 2. Mark a course as published\n",
    "try:\n",
    "    course_id_to_publish = 10  \n",
    "    update_result = db.courses.update_one(\n",
    "        {\"course_id\": course_id_to_publish},\n",
    "        {\"$set\": {\"is_published\": True, \"updated_at\": datetime.now()}}\n",
    "    )\n",
    "    if update_result.modified_count > 0:\n",
    "        print(f\"Course ID {course_id_to_publish} marked as published successfully!\")\n",
    "    else:\n",
    "        print(f\"No changes made to the course ID {course_id_to_publish}.\")\n",
    "except Exception as e:\n",
    "    print(f\"Unable to mark course ID {course_id_to_publish} as published because of {e}\")"
   ]
  },
  {
   "cell_type": "code",
   "execution_count": 26,
   "id": "0cb89fe4",
   "metadata": {},
   "outputs": [
    {
     "name": "stdout",
     "output_type": "stream",
     "text": [
      "Assignment ID 1 updated successfully!\n"
     ]
    }
   ],
   "source": [
    "# 3. Update assignment grades\n",
    "try:\n",
    "    assignment_id_to_update = 1  \n",
    "    updated_assignment = {\n",
    "        \"title\": \"HTML Basics Assignment - Updated\",\n",
    "        \"description\": \"Create a simple web page using basic HTML elements with additional features.\",\n",
    "        \"due_date\": datetime(2025, 6, 30, 0, 0),\n",
    "        \"created_at\": datetime(2025, 6, 13, 17, 47, 29, 987382)\n",
    "    }\n",
    "    update_result = db.assignments.update_one(\n",
    "        {\"assignment_id\": assignment_id_to_update},\n",
    "        {\"$set\": updated_assignment}\n",
    "    )\n",
    "    if update_result.modified_count > 0:\n",
    "        print(f\"Assignment ID {assignment_id_to_update} updated successfully!\")\n",
    "    else:\n",
    "        print(f\"No changes made to the assignment ID {assignment_id_to_update}.\")\n",
    "except Exception as e:\n",
    "    print(f\"Unable to update assignment ID {assignment_id_to_update} because of {e}\")"
   ]
  },
  {
   "cell_type": "code",
   "execution_count": 27,
   "id": "133c68cb",
   "metadata": {},
   "outputs": [
    {
     "name": "stdout",
     "output_type": "stream",
     "text": [
      "Tags added to Course ID 1 successfully!\n"
     ]
    }
   ],
   "source": [
    "# 4. Add tags to an existing course\n",
    "try:\n",
    "    course_id_to_update = 1  \n",
    "    new_tags = [\"HTML5\", \"Web Development\"]\n",
    "    update_result = db.courses.update_one(\n",
    "        {\n",
    "            \"course_id\": course_id_to_update\n",
    "        },\n",
    "        {\"$addToSet\": {\"tags\": {\"$each\": new_tags}}, \"$set\": {\"updated_at\": datetime.now()}}\n",
    "    )\n",
    "    if update_result.modified_count > 0:\n",
    "        print(f\"Tags added to Course ID {course_id_to_update} successfully!\")\n",
    "    else:\n",
    "        print(f\"No changes made to the course ID {course_id_to_update}.\")\n",
    "except Exception as e:\n",
    "    print(f\"Unable to add tags to course ID {course_id_to_update} because of {e}\")"
   ]
  },
  {
   "cell_type": "code",
   "execution_count": 28,
   "id": "f25e534f",
   "metadata": {},
   "outputs": [
    {
     "name": "stdout",
     "output_type": "stream",
     "text": [
      "User with user_id 15 has been soft deleted (is_active set to False).\n"
     ]
    }
   ],
   "source": [
    "# Task 3.4: Delete Operations\n",
    "# 1. Remove a user (soft delete by setting isActive to false)\n",
    "try:\n",
    "\tuser_id_to_remove = 15\n",
    "\tupdate_result = db.users.update_one(\n",
    "\t\t{\"user_id\": user_id_to_remove},\n",
    "\t\t{\"$set\": {\"is_active\": 'False'}}\n",
    "\t)\n",
    "\tif update_result.modified_count > 0:\n",
    "\t\tprint(f\"User with user_id {user_id_to_remove} has been soft deleted (is_active set to False).\")\n",
    "\telse:\n",
    "\t\tprint(f\"No user found with user_id {user_id_to_remove}, or already soft deleted.\")\n",
    "except Exception as e:\n",
    "\tprint(f\"Unable to soft delete user because of {e}\")"
   ]
  },
  {
   "cell_type": "code",
   "execution_count": 29,
   "id": "ac746c09",
   "metadata": {},
   "outputs": [
    {
     "name": "stdout",
     "output_type": "stream",
     "text": [
      "Enrollment with enrollment_id 5 deleted successfully!\n"
     ]
    }
   ],
   "source": [
    "# 2. Delete an enrollment\n",
    "try:\n",
    "\tenrollment_id_to_delete = 5\n",
    "\tdelete_result = db.enrollments.delete_one({\"enrollment_id\": enrollment_id_to_delete})\n",
    "\tif delete_result.deleted_count > 0:\n",
    "\t\tprint(f\"Enrollment with enrollment_id {enrollment_id_to_delete} deleted successfully!\")\n",
    "\telse:\n",
    "\t\tprint(f\"No enrollment found with enrollment_id {enrollment_id_to_delete}.\")\n",
    "except Exception as e:\n",
    "\tprint(f\"Unable to delete enrollment because of {e}\")\n",
    "    "
   ]
  },
  {
   "cell_type": "code",
   "execution_count": 30,
   "id": "affa9f03",
   "metadata": {},
   "outputs": [
    {
     "name": "stdout",
     "output_type": "stream",
     "text": [
      "Lesson with lesson_id 3 deleted successfully!\n"
     ]
    }
   ],
   "source": [
    "# 3. Remove a lesson from a course\n",
    "try:\n",
    "\tlesson_id_to_delete = 3\n",
    "\tdelete_result = db.lessons.delete_one({\"lesson_id\": lesson_id_to_delete})\n",
    "\tif delete_result.deleted_count > 0:\n",
    "\t\tprint(f\"Lesson with lesson_id {lesson_id_to_delete} deleted successfully!\")\n",
    "\telse:\n",
    "\t\tprint(f\"No lesson found with lesson_id {lesson_id_to_delete}.\")\n",
    "except Exception as e:\n",
    "\tprint(f\"Unable to delete lesson because of {e}\")"
   ]
  },
  {
   "cell_type": "code",
   "execution_count": 31,
   "id": "4edcf5b2",
   "metadata": {},
   "outputs": [
    {
     "name": "stdout",
     "output_type": "stream",
     "text": [
      "Courses with price between $50 and $200:\n",
      "{'_id': ObjectId('684dc6dce797b6585cb6c5ce'), 'course_id': 2, 'title': 'Data Analysis with Pandas', 'description': 'Analyze data efficiently using Pandas library.', 'instructor_id': 5, 'category': 'Data Science', 'level': 'intermediate', 'duration': 8, 'price': 59.99, 'tags': ['Data Science', 'Pandas', 'Analysis'], 'created_at': datetime.datetime(2025, 6, 14, 20, 0, 43, 846000), 'updated_at': datetime.datetime(2025, 6, 14, 20, 0, 43, 846000), 'is_published': True, 'rating': 4.6}\n",
      "{'_id': ObjectId('684dc6dce797b6585cb6c5d1'), 'course_id': 5, 'title': 'React for Beginners', 'description': 'Build responsive web apps using React.', 'instructor_id': 13, 'category': 'Frontend Development', 'level': 'intermediate', 'duration': 15, 'price': 69.99, 'tags': ['React', 'JavaScript', 'Frontend'], 'created_at': datetime.datetime(2025, 6, 14, 20, 0, 43, 846000), 'updated_at': datetime.datetime(2025, 6, 14, 20, 0, 43, 846000), 'is_published': True, 'rating': 4.9}\n",
      "{'_id': ObjectId('684dc6dce797b6585cb6c5d2'), 'course_id': 6, 'title': 'Advanced Machine Learning', 'description': 'Dive deep into ML algorithms and model tuning.', 'instructor_id': 5, 'category': 'Data Science', 'level': 'advanced', 'duration': 20, 'price': 99.99, 'tags': ['ML', 'AI', 'Scikit-learn'], 'created_at': datetime.datetime(2025, 6, 14, 20, 0, 43, 846000), 'updated_at': datetime.datetime(2025, 6, 14, 20, 0, 43, 846000), 'is_published': True, 'rating': 4.6}\n",
      "{'_id': ObjectId('684dc6dce797b6585cb6c5d3'), 'course_id': 7, 'title': 'Database Design with SQL', 'description': 'Design and query relational databases effectively.', 'instructor_id': 9, 'category': 'Databases', 'level': 'intermediate', 'duration': 10, 'price': 55.0, 'tags': ['SQL', 'Database', 'Design'], 'created_at': datetime.datetime(2025, 6, 14, 20, 0, 43, 846000), 'updated_at': datetime.datetime(2025, 6, 14, 20, 0, 43, 846000), 'is_published': True, 'rating': 4.4}\n",
      "{'_id': ObjectId('684dc6dce797b6585cb6c5d4'), 'course_id': 8, 'title': 'Cybersecurity Fundamentals', 'description': 'Protect systems with foundational security concepts.', 'instructor_id': 15, 'category': 'Security', 'level': 'beginner', 'duration': 9, 'price': 65.5, 'tags': ['Security', 'Network', 'Linux'], 'created_at': datetime.datetime(2025, 6, 14, 20, 0, 43, 846000), 'updated_at': datetime.datetime(2025, 6, 14, 20, 0, 43, 846000), 'is_published': True, 'rating': 4.3}\n",
      "{'_id': ObjectId('684dc6dde797b6585cb6c614'), 'course_id': 21, 'title': 'Advanced React Development', 'description': 'Deep dive into React with hooks and state management.', 'instructor_id': 13, 'category': 'Frontend Development', 'level': 'advanced', 'duration': 25, 'price': 89.99, 'tags': ['React', 'Hooks', 'State Management'], 'created_at': datetime.datetime(2025, 6, 14, 20, 0, 45, 273000), 'updated_at': datetime.datetime(2025, 6, 14, 20, 0, 45, 273000), 'is_published': True}\n"
     ]
    }
   ],
   "source": [
    "# Task 4.1: Complex Queries\n",
    "# 1. Find courses with price between $50 and $200\n",
    "try:\n",
    "\tcourses_in_price_range = db.courses.find({\"price\": {\"$gte\": 50, \"$lte\": 200}})\n",
    "\tprint(\"Courses with price between $50 and $200:\")\n",
    "\tfor course in courses_in_price_range:\n",
    "\t\tprint(course)\n",
    "except Exception as e:\n",
    "\tprint(f\"Unable to retrieve courses in price range because of {e}\")"
   ]
  },
  {
   "cell_type": "code",
   "execution_count": 32,
   "id": "1461689e",
   "metadata": {},
   "outputs": [
    {
     "name": "stdout",
     "output_type": "stream",
     "text": [
      "Users who joined in the last 6 months:\n",
      "{'_id': ObjectId('684dc6dbe797b6585cb6c5b9'), 'user_id': 1, 'full_name': 'Dorcas Williams', 'email': 'dorcas@gmail.com', 'role': 'instructor', 'dateJoined': datetime.datetime(2025, 6, 14, 20, 0, 43, 584000), 'profile': {'bio': 'I am Dorcas, an instructor at this academy.', 'avatar': 'https://example.com/avatar1.jpg', 'skills': ['Python', 'MongoDB', 'SQL', 'JavaScript']}, 'is_active': 'True'}\n",
      "{'_id': ObjectId('684dc6dbe797b6585cb6c5ba'), 'user_id': 2, 'full_name': 'Isaac Brown', 'email': 'isaacb@gmail.com', 'role': 'student', 'dateJoined': datetime.datetime(2025, 6, 14, 20, 0, 43, 584000), 'profile': {'bio': 'Student passionate about backend development.', 'avatar': 'https://example.com/avatar2.jpg', 'skills': ['Python', 'Flask', 'Docker']}, 'is_active': 'True'}\n",
      "{'_id': ObjectId('684dc6dbe797b6585cb6c5bb'), 'user_id': 3, 'full_name': 'Clara Osei', 'email': 'clarao@gmail.com', 'role': 'instructor', 'dateJoined': datetime.datetime(2025, 6, 14, 20, 0, 43, 584000), 'profile': {'bio': 'Teaching JavaScript and frontend frameworks.', 'avatar': 'https://example.com/avatar3.jpg', 'skills': ['JavaScript', 'React', 'HTML', 'CSS']}, 'is_active': 'True'}\n",
      "{'_id': ObjectId('684dc6dbe797b6585cb6c5bc'), 'user_id': 4, 'full_name': 'Emeka Obi', 'email': 'emeka@gmail.com', 'role': 'student', 'dateJoined': datetime.datetime(2025, 6, 14, 20, 0, 43, 584000), 'profile': {'bio': 'Learning data analysis and visualization.', 'avatar': 'https://example.com/avatar4.jpg', 'skills': ['Excel', 'Power BI', 'SQL']}, 'is_active': 'True'}\n",
      "{'_id': ObjectId('684dc6dbe797b6585cb6c5bd'), 'user_id': 5, 'full_name': 'Aisha Bello', 'email': 'aisha@gmail.com', 'role': 'instructor', 'dateJoined': datetime.datetime(2025, 6, 14, 20, 0, 43, 584000), 'profile': {'bio': 'Mentor in machine learning and Python.', 'avatar': 'https://example.com/avatar5.jpg', 'skills': ['Python', 'Scikit-learn', 'Pandas', 'NumPy']}, 'is_active': 'True'}\n",
      "{'_id': ObjectId('684dc6dbe797b6585cb6c5be'), 'user_id': 6, 'full_name': 'John Doe', 'email': 'jdoe@gmail.com', 'role': 'student', 'dateJoined': datetime.datetime(2025, 6, 14, 20, 0, 43, 584000), 'profile': {'bio': 'Exploring web development fundamentals.', 'avatar': 'https://example.com/avatar6.jpg', 'skills': ['HTML', 'CSS', 'JavaScript']}, 'is_active': 'True'}\n",
      "{'_id': ObjectId('684dc6dbe797b6585cb6c5bf'), 'user_id': 7, 'full_name': 'Grace Mwangi', 'email': 'gracem@gmail.com', 'role': 'instructor', 'dateJoined': datetime.datetime(2025, 6, 14, 20, 0, 43, 584000), 'profile': {'bio': 'Guiding students in cloud computing.', 'avatar': 'https://example.com/avatar7.jpg', 'skills': ['AWS', 'Azure', 'Docker']}, 'is_active': 'True'}\n",
      "{'_id': ObjectId('684dc6dbe797b6585cb6c5c0'), 'user_id': 8, 'full_name': 'Samuel Kim', 'email': 'samkim@gmail.com', 'role': 'student', 'dateJoined': datetime.datetime(2025, 6, 14, 20, 0, 43, 584000), 'profile': {'bio': 'Interested in automation and scripting.', 'avatar': 'https://example.com/avatar8.jpg', 'skills': ['Python', 'Bash', 'Git']}, 'is_active': 'True'}\n",
      "{'_id': ObjectId('684dc6dbe797b6585cb6c5c1'), 'user_id': 9, 'full_name': 'Fatima Yusuf', 'email': 'fatima@gmail.com', 'role': 'instructor', 'dateJoined': datetime.datetime(2025, 6, 14, 20, 0, 43, 584000), 'profile': {'bio': 'Instructor focused on database design.', 'avatar': 'https://example.com/avatar9.jpg', 'skills': ['MySQL', 'PostgreSQL', 'MongoDB']}, 'is_active': 'True'}\n",
      "{'_id': ObjectId('684dc6dbe797b6585cb6c5c2'), 'user_id': 10, 'full_name': 'Michael Chen', 'email': 'mchen@gmail.com', 'role': 'student', 'dateJoined': datetime.datetime(2025, 6, 14, 20, 0, 43, 584000), 'profile': {'bio': 'Pursuing a path in AI and deep learning.', 'avatar': 'https://example.com/avatar10.jpg', 'skills': ['TensorFlow', 'Keras', 'Python']}, 'is_active': 'True'}\n",
      "{'_id': ObjectId('684dc6dbe797b6585cb6c5c3'), 'user_id': 11, 'full_name': 'Linda Kone', 'email': 'lindak@gmail.com', 'role': 'instructor', 'dateJoined': datetime.datetime(2025, 6, 14, 20, 0, 43, 584000), 'profile': {'bio': 'Instructor in software engineering principles.', 'avatar': 'https://example.com/avatar11.jpg', 'skills': ['Java', 'Spring Boot', 'Git']}, 'is_active': 'True'}\n",
      "{'_id': ObjectId('684dc6dbe797b6585cb6c5c4'), 'user_id': 12, 'full_name': 'Omar Diallo', 'email': 'omard@gmail.com', 'role': 'student', 'dateJoined': datetime.datetime(2025, 6, 14, 20, 0, 43, 584000), 'profile': {'bio': 'Learning APIs and backend development.', 'avatar': 'https://example.com/avatar12.jpg', 'skills': ['Node.js', 'Express', 'MongoDB']}, 'is_active': 'True'}\n",
      "{'_id': ObjectId('684dc6dbe797b6585cb6c5c5'), 'user_id': 13, 'full_name': 'Janet Mensah', 'email': 'janetm@gmail.com', 'role': 'instructor', 'dateJoined': datetime.datetime(2025, 6, 14, 20, 0, 43, 584000), 'profile': {'bio': 'Frontend expert and UI/UX enthusiast.', 'avatar': 'https://example.com/avatar13.jpg', 'skills': ['HTML', 'CSS', 'Figma', 'React']}, 'is_active': 'True'}\n",
      "{'_id': ObjectId('684dc6dbe797b6585cb6c5c6'), 'user_id': 14, 'full_name': 'Aliyu Musa', 'email': 'aliyum@gmail.com', 'role': 'student', 'dateJoined': datetime.datetime(2025, 6, 14, 20, 0, 43, 584000), 'profile': {'bio': 'Beginner exploring full-stack development.', 'avatar': 'https://example.com/avatar14.jpg', 'skills': ['Python', 'React', 'Django']}, 'is_active': 'True'}\n",
      "{'_id': ObjectId('684dc6dbe797b6585cb6c5c7'), 'user_id': 15, 'full_name': 'Sarah Njeri', 'email': 'sarahn@gmail.com', 'role': 'instructor', 'dateJoined': datetime.datetime(2025, 6, 14, 20, 0, 43, 584000), 'profile': {'bio': 'Cybersecurity instructor with 5 years of experience.', 'avatar': 'https://example.com/avatar15.jpg', 'skills': ['Network Security', 'Linux', 'Python']}, 'is_active': 'False'}\n",
      "{'_id': ObjectId('684dc6dbe797b6585cb6c5c8'), 'user_id': 16, 'full_name': 'Peter Obi', 'email': 'petero@gmail.com', 'role': 'student', 'dateJoined': datetime.datetime(2025, 6, 14, 20, 0, 43, 584000), 'profile': {'bio': 'Student aiming to become a DevOps engineer.', 'avatar': 'https://example.com/avatar16.jpg', 'skills': ['Docker', 'Kubernetes', 'CI/CD']}, 'is_active': 'True'}\n",
      "{'_id': ObjectId('684dc6dbe797b6585cb6c5c9'), 'user_id': 17, 'full_name': 'Fola Adebayo', 'email': 'fola@gmail.com', 'role': 'instructor', 'dateJoined': datetime.datetime(2025, 6, 14, 20, 0, 43, 584000), 'profile': {'bio': 'Specialist in data science and analytics.', 'avatar': 'https://example.com/avatar17.jpg', 'skills': ['Pandas', 'NumPy', 'Tableau', 'SQL']}, 'is_active': 'True'}\n",
      "{'_id': ObjectId('684dc6dbe797b6585cb6c5ca'), 'user_id': 18, 'full_name': 'Mariam Jatta', 'email': 'mariamj@gmail.com', 'role': 'student', 'dateJoined': datetime.datetime(2025, 6, 14, 20, 0, 43, 584000), 'profile': {'bio': 'Exploring app development and design.', 'avatar': 'https://example.com/avatar18.jpg', 'skills': ['Flutter', 'Dart', 'Firebase']}, 'is_active': 'True'}\n",
      "{'_id': ObjectId('684dc6dbe797b6585cb6c5cb'), 'user_id': 19, 'full_name': 'Kevin Banda', 'email': 'kevinb@gmail.com', 'role': 'instructor', 'dateJoined': datetime.datetime(2025, 6, 14, 20, 0, 43, 584000), 'profile': {'bio': 'Mobile development mentor.', 'avatar': 'https://example.com/avatar19.jpg', 'skills': ['React Native', 'Kotlin', 'Swift']}, 'is_active': 'True'}\n",
      "{'_id': ObjectId('684dc6dbe797b6585cb6c5cc'), 'user_id': 20, 'full_name': 'Chinwe Okeke', 'email': 'chinweo@gmail.com', 'role': 'student', 'dateJoined': datetime.datetime(2025, 6, 14, 20, 0, 43, 584000), 'profile': {'bio': 'Interested in cybersecurity and networking.', 'avatar': 'https://example.com/avatar20.jpg', 'skills': ['Wireshark', 'Linux', 'Python']}, 'is_active': 'True'}\n",
      "{'_id': ObjectId('684dc6dde797b6585cb6c613'), 'user_id': 21, 'full_name': 'Folarin Shade', 'email': 'folashade@gmail.com', 'role': 'student', 'dateJoined': datetime.datetime(2025, 6, 14, 20, 0, 45, 210000), 'profile': {'bio': 'I am Shade, a frontend dev student with a passion for design.', 'avatar': 'https://example.com/new_avatar1.jpg', 'skills': ['Python', 'HTML', 'CSS', 'JavaScript', 'React']}, 'is_active': 'True'}\n"
     ]
    }
   ],
   "source": [
    "# 2. Get users who joined in the last 6 months\n",
    "try:\n",
    "\tsix_months_ago = datetime.now().replace(microsecond=0) - pd.DateOffset(months=6)\n",
    "\trecent_users = db.users.find({\"dateJoined\": {\"$gte\": six_months_ago}})\n",
    "\tprint(\"Users who joined in the last 6 months:\")\n",
    "\tfor user in recent_users:\n",
    "\t\tprint(user)\n",
    "except Exception as e:\n",
    "\tprint(f\"Unable to retrieve users who joined in the last 6 months because of {e}\")"
   ]
  },
  {
   "cell_type": "code",
   "execution_count": 33,
   "id": "cc5805ee",
   "metadata": {},
   "outputs": [
    {
     "name": "stdout",
     "output_type": "stream",
     "text": [
      "Courses with tags ['Python', 'React']:\n",
      "{'_id': ObjectId('684dc6dce797b6585cb6c5cd'), 'course_id': 1, 'title': 'Introduction to Python', 'description': 'Learn the basics of Python programming.', 'instructor_id': 1, 'category': 'Programming', 'level': 'beginner', 'duration': 10, 'price': 49.99, 'tags': ['Python', 'Programming', 'Beginner', 'HTML5', 'Web Development'], 'created_at': datetime.datetime(2025, 6, 14, 20, 0, 43, 846000), 'updated_at': datetime.datetime(2025, 6, 14, 20, 0, 46, 133000), 'is_published': True, 'rating': 4.7}\n",
      "{'_id': ObjectId('684dc6dce797b6585cb6c5d1'), 'course_id': 5, 'title': 'React for Beginners', 'description': 'Build responsive web apps using React.', 'instructor_id': 13, 'category': 'Frontend Development', 'level': 'intermediate', 'duration': 15, 'price': 69.99, 'tags': ['React', 'JavaScript', 'Frontend'], 'created_at': datetime.datetime(2025, 6, 14, 20, 0, 43, 846000), 'updated_at': datetime.datetime(2025, 6, 14, 20, 0, 43, 846000), 'is_published': True, 'rating': 4.9}\n",
      "{'_id': ObjectId('684dc6dde797b6585cb6c614'), 'course_id': 21, 'title': 'Advanced React Development', 'description': 'Deep dive into React with hooks and state management.', 'instructor_id': 13, 'category': 'Frontend Development', 'level': 'advanced', 'duration': 25, 'price': 89.99, 'tags': ['React', 'Hooks', 'State Management'], 'created_at': datetime.datetime(2025, 6, 14, 20, 0, 45, 273000), 'updated_at': datetime.datetime(2025, 6, 14, 20, 0, 45, 273000), 'is_published': True}\n"
     ]
    }
   ],
   "source": [
    "# 3. Find courses that have specific tags using $in operator\n",
    "try:\n",
    "\ttags_to_search = [\"Python\", \"React\"] \n",
    "\tcourses_with_tags = db.courses.find({\"tags\": {\"$in\": tags_to_search}})\n",
    "\tprint(f\"Courses with tags {tags_to_search}:\")\n",
    "\tfor course in courses_with_tags:\n",
    "\t\tprint(course)\n",
    "except Exception as e:\n",
    "\tprint(f\"Unable to find courses with tags {tags_to_search} because of {e}\")"
   ]
  },
  {
   "cell_type": "code",
   "execution_count": 34,
   "id": "e3139677",
   "metadata": {},
   "outputs": [
    {
     "name": "stdout",
     "output_type": "stream",
     "text": [
      "Assignments due in the next week:\n"
     ]
    }
   ],
   "source": [
    "# 4. Retrieve assignments with due dates in the next week\n",
    "try:\n",
    "\ttoday = datetime.now()\n",
    "\tnext_week = today + pd.Timedelta(days=7)\n",
    "\tassignments_next_week = db.assignments.find({\n",
    "\t\t\"due_date\": {\"$gte\": today, \"$lte\": next_week}\n",
    "\t})\n",
    "\tprint(\"Assignments due in the next week:\")\n",
    "\tfor assignment in assignments_next_week:\n",
    "\t\tprint(assignment)\n",
    "except Exception as e:\n",
    "\tprint(f\"Unable to retrieve assignments due in the next week because of {e}\")"
   ]
  },
  {
   "cell_type": "code",
   "execution_count": 35,
   "id": "b756a26e",
   "metadata": {},
   "outputs": [
    {
     "name": "stdout",
     "output_type": "stream",
     "text": [
      "Course Enrollment Statistics by Category:\n",
      "{'_id': 'Databases', 'courses': [{'_id': ObjectId('684dc6dce797b6585cb6c5d3'), 'course_id': 7, 'title': 'Database Design with SQL', 'description': 'Design and query relational databases effectively.', 'instructor_id': 9, 'category': 'Databases', 'level': 'intermediate', 'duration': 10, 'price': 55.0, 'tags': ['SQL', 'Database', 'Design'], 'created_at': datetime.datetime(2025, 6, 14, 20, 0, 43, 846000), 'updated_at': datetime.datetime(2025, 6, 14, 20, 0, 43, 846000), 'is_published': True, 'rating': 4.4, 'enrollments': [{'_id': ObjectId('684dc6dce797b6585cb6c5db'), 'enrollment_id': 7, 'student_id': 16, 'course_id': 7, 'enrolled_at': datetime.datetime(2025, 6, 14, 20, 0, 44, 389000), 'is_active': True}]}], 'total_courses': 1, 'total_enrollments_in_category': 1, 'average_rating': 4.4}\n",
      "{'_id': 'Security', 'courses': [{'_id': ObjectId('684dc6dce797b6585cb6c5d4'), 'course_id': 8, 'title': 'Cybersecurity Fundamentals', 'description': 'Protect systems with foundational security concepts.', 'instructor_id': 15, 'category': 'Security', 'level': 'beginner', 'duration': 9, 'price': 65.5, 'tags': ['Security', 'Network', 'Linux'], 'created_at': datetime.datetime(2025, 6, 14, 20, 0, 43, 846000), 'updated_at': datetime.datetime(2025, 6, 14, 20, 0, 43, 846000), 'is_published': True, 'rating': 4.3, 'enrollments': [{'_id': ObjectId('684dc6dce797b6585cb6c5dc'), 'enrollment_id': 8, 'student_id': 18, 'course_id': 8, 'enrolled_at': datetime.datetime(2025, 6, 14, 20, 0, 44, 389000), 'is_active': False}]}], 'total_courses': 1, 'total_enrollments_in_category': 1, 'average_rating': 4.3}\n",
      "{'_id': 'Programming', 'courses': [{'_id': ObjectId('684dc6dce797b6585cb6c5cd'), 'course_id': 1, 'title': 'Introduction to Python', 'description': 'Learn the basics of Python programming.', 'instructor_id': 1, 'category': 'Programming', 'level': 'beginner', 'duration': 10, 'price': 49.99, 'tags': ['Python', 'Programming', 'Beginner', 'HTML5', 'Web Development'], 'created_at': datetime.datetime(2025, 6, 14, 20, 0, 43, 846000), 'updated_at': datetime.datetime(2025, 6, 14, 20, 0, 46, 133000), 'is_published': True, 'rating': 4.7, 'enrollments': [{'_id': ObjectId('684dc6dce797b6585cb6c5d5'), 'enrollment_id': 1, 'student_id': 4, 'course_id': 1, 'enrolled_at': datetime.datetime(2025, 6, 14, 20, 0, 44, 389000), 'is_active': True}, {'_id': ObjectId('684dc6dde797b6585cb6c615'), 'enrollment_id': 21, 'student_id': 21, 'course_id': 1, 'enrolled_at': datetime.datetime(2025, 6, 14, 20, 0, 45, 360000), 'is_active': True}]}, {'_id': ObjectId('684dc6dce797b6585cb6c5d0'), 'course_id': 4, 'title': 'JavaScript Essentials', 'description': 'Understand JavaScript for interactive web pages.', 'instructor_id': 3, 'category': 'Programming', 'level': 'beginner', 'duration': 14, 'price': 44.99, 'tags': ['JavaScript', 'Frontend'], 'created_at': datetime.datetime(2025, 6, 14, 20, 0, 43, 846000), 'updated_at': datetime.datetime(2025, 6, 14, 20, 0, 43, 846000), 'is_published': True, 'rating': 4.5, 'enrollments': []}], 'total_courses': 2, 'total_enrollments_in_category': 2, 'average_rating': 4.6}\n",
      "{'_id': 'Data Science', 'courses': [{'_id': ObjectId('684dc6dce797b6585cb6c5ce'), 'course_id': 2, 'title': 'Data Analysis with Pandas', 'description': 'Analyze data efficiently using Pandas library.', 'instructor_id': 5, 'category': 'Data Science', 'level': 'intermediate', 'duration': 8, 'price': 59.99, 'tags': ['Data Science', 'Pandas', 'Analysis'], 'created_at': datetime.datetime(2025, 6, 14, 20, 0, 43, 846000), 'updated_at': datetime.datetime(2025, 6, 14, 20, 0, 43, 846000), 'is_published': True, 'rating': 4.6, 'enrollments': [{'_id': ObjectId('684dc6dce797b6585cb6c5d7'), 'enrollment_id': 3, 'student_id': 8, 'course_id': 2, 'enrolled_at': datetime.datetime(2025, 6, 14, 20, 0, 44, 389000), 'is_active': True}]}, {'_id': ObjectId('684dc6dce797b6585cb6c5d2'), 'course_id': 6, 'title': 'Advanced Machine Learning', 'description': 'Dive deep into ML algorithms and model tuning.', 'instructor_id': 5, 'category': 'Data Science', 'level': 'advanced', 'duration': 20, 'price': 99.99, 'tags': ['ML', 'AI', 'Scikit-learn'], 'created_at': datetime.datetime(2025, 6, 14, 20, 0, 43, 846000), 'updated_at': datetime.datetime(2025, 6, 14, 20, 0, 43, 846000), 'is_published': True, 'rating': 4.6, 'enrollments': [{'_id': ObjectId('684dc6dce797b6585cb6c5da'), 'enrollment_id': 6, 'student_id': 14, 'course_id': 6, 'enrolled_at': datetime.datetime(2025, 6, 14, 20, 0, 44, 389000), 'is_active': True}]}], 'total_courses': 2, 'total_enrollments_in_category': 2, 'average_rating': 4.6}\n",
      "{'_id': 'Web Development', 'courses': [{'_id': ObjectId('684dc6dce797b6585cb6c5cf'), 'course_id': 3, 'title': 'Web Development with HTML & CSS', 'description': 'Build modern websites using HTML and CSS.', 'instructor_id': 13, 'category': 'Web Development', 'level': 'beginner', 'duration': 12, 'price': 39.99, 'tags': ['HTML', 'CSS', 'Frontend'], 'created_at': datetime.datetime(2025, 6, 14, 20, 0, 43, 846000), 'updated_at': datetime.datetime(2025, 6, 14, 20, 0, 43, 846000), 'is_published': True, 'rating': 4.8, 'enrollments': [{'_id': ObjectId('684dc6dce797b6585cb6c5d6'), 'enrollment_id': 2, 'student_id': 6, 'course_id': 3, 'enrolled_at': datetime.datetime(2025, 6, 14, 20, 0, 44, 389000), 'is_active': True}]}], 'total_courses': 1, 'total_enrollments_in_category': 1, 'average_rating': 4.8}\n",
      "{'_id': 'Frontend Development', 'courses': [{'_id': ObjectId('684dc6dce797b6585cb6c5d1'), 'course_id': 5, 'title': 'React for Beginners', 'description': 'Build responsive web apps using React.', 'instructor_id': 13, 'category': 'Frontend Development', 'level': 'intermediate', 'duration': 15, 'price': 69.99, 'tags': ['React', 'JavaScript', 'Frontend'], 'created_at': datetime.datetime(2025, 6, 14, 20, 0, 43, 846000), 'updated_at': datetime.datetime(2025, 6, 14, 20, 0, 43, 846000), 'is_published': True, 'rating': 4.9, 'enrollments': [{'_id': ObjectId('684dc6dce797b6585cb6c5d8'), 'enrollment_id': 4, 'student_id': 10, 'course_id': 5, 'enrolled_at': datetime.datetime(2025, 6, 14, 20, 0, 44, 389000), 'is_active': True}]}, {'_id': ObjectId('684dc6dde797b6585cb6c614'), 'course_id': 21, 'title': 'Advanced React Development', 'description': 'Deep dive into React with hooks and state management.', 'instructor_id': 13, 'category': 'Frontend Development', 'level': 'advanced', 'duration': 25, 'price': 89.99, 'tags': ['React', 'Hooks', 'State Management'], 'created_at': datetime.datetime(2025, 6, 14, 20, 0, 45, 273000), 'updated_at': datetime.datetime(2025, 6, 14, 20, 0, 45, 273000), 'is_published': True, 'enrollments': []}], 'total_courses': 2, 'total_enrollments_in_category': 1, 'average_rating': 4.9}\n"
     ]
    }
   ],
   "source": [
    "# Task 4.2: Aggregation Pipeline\n",
    "# 1. Course Enrollment Statistics:\n",
    "# Count total enrollments per course, Calculate average course rating, Group by course category\n",
    "\n",
    "try:\n",
    "\tenrollment_stats = db.courses.aggregate([\n",
    "\t\t{\n",
    "\t\t\t\"$lookup\": {\n",
    "\t\t\t\t\"from\": \"enrollments\",\n",
    "\t\t\t\t\"localField\": \"course_id\",\n",
    "\t\t\t\t\"foreignField\": \"course_id\",\n",
    "\t\t\t\t\"as\": \"enrollments\"\n",
    "\t\t\t}\n",
    "\t\t},\n",
    "\t\t{\n",
    "\t\t\t\"$group\": {\n",
    "\t\t\t\t\"_id\": \"$category\",\n",
    "\t\t\t\t\"courses\": {\"$push\": \"$$ROOT\"},\n",
    "\t\t\t\t\"total_courses\": {\"$sum\": 1},\n",
    "\t\t\t\t\"total_enrollments_in_category\": {\"$sum\": {\"$size\": \"$enrollments\"}},\n",
    "\t\t\t\t\"average_rating\": {\"$avg\": \"$rating\"}\n",
    "\t\t\t}\n",
    "\t\t}\n",
    "\t])\n",
    "\tprint(\"Course Enrollment Statistics by Category:\")\n",
    "\tfor stat in enrollment_stats:\n",
    "\t\tprint(stat)\n",
    "except Exception as e:\n",
    "\tprint(f\"Unable to compute course enrollment statistics because of {e}\")\n"
   ]
  },
  {
   "cell_type": "code",
   "execution_count": 36,
   "id": "07da1678",
   "metadata": {},
   "outputs": [
    {
     "name": "stdout",
     "output_type": "stream",
     "text": [
      "Average grade per student:\n",
      "{'average_grade': 82.0, 'submission_count': 1, 'student_id': 3, 'student_name': 'Clara Osei'}\n",
      "{'average_grade': 86.0, 'submission_count': 2, 'student_id': 7, 'student_name': 'Grace Mwangi'}\n",
      "{'average_grade': 70.5, 'submission_count': 1, 'student_id': 8, 'student_name': 'Samuel Kim'}\n",
      "{'average_grade': 75.5, 'submission_count': 2, 'student_id': 4, 'student_name': 'Emeka Obi'}\n",
      "{'average_grade': 75.0, 'submission_count': 1, 'student_id': 5, 'student_name': 'Aisha Bello'}\n",
      "{'average_grade': 92.5, 'submission_count': 1, 'student_id': 6, 'student_name': 'John Doe'}\n",
      "{'average_grade': 78.0, 'submission_count': 1, 'student_id': 1, 'student_name': 'Dorcas Williams'}\n",
      "{'average_grade': 88.0, 'submission_count': 1, 'student_id': 9, 'student_name': 'Fatima Yusuf'}\n",
      "{'average_grade': 90.0, 'submission_count': 1, 'student_id': 2, 'student_name': 'Isaac Brown'}\n",
      "{'average_grade': 69.5, 'submission_count': 1, 'student_id': 10, 'student_name': 'Michael Chen'}\n"
     ]
    }
   ],
   "source": [
    "# 2. Student Performance Analysis:\n",
    "# Average grade per student, Completion rate by course, Top-performing students\n",
    "\n",
    "# Average grade per student\n",
    "try:\n",
    "\tavg_grade_per_student = db.submissions.aggregate([\n",
    "\t\t{\n",
    "\t\t\t\"$group\": {\n",
    "\t\t\t\t\"_id\": \"$student_id\",\n",
    "\t\t\t\t\"average_grade\": {\"$avg\": \"$grade\"},\n",
    "\t\t\t\t\"submission_count\": {\"$sum\": 1}\n",
    "\t\t\t}\n",
    "\t\t},\n",
    "\t\t{\n",
    "\t\t\t\"$lookup\": {\n",
    "\t\t\t\t\"from\": \"users\",\n",
    "\t\t\t\t\"localField\": \"_id\",\n",
    "\t\t\t\t\"foreignField\": \"user_id\",\n",
    "\t\t\t\t\"as\": \"student_info\"\n",
    "\t\t\t}\n",
    "\t\t},\n",
    "\t\t{\"$unwind\": \"$student_info\"},\n",
    "\t\t{\n",
    "\t\t\t\"$project\": {\n",
    "\t\t\t\t\"_id\": 0,\n",
    "\t\t\t\t\"student_id\": \"$_id\",\n",
    "\t\t\t\t\"student_name\": \"$student_info.full_name\",\n",
    "\t\t\t\t\"average_grade\": 1,\n",
    "\t\t\t\t\"submission_count\": 1\n",
    "\t\t\t}\n",
    "\t\t}\n",
    "\t])\n",
    "\tprint(\"Average grade per student:\")\n",
    "\tfor student in avg_grade_per_student:\n",
    "\t\tprint(student)\n",
    "except Exception as e:\n",
    "\tprint(f\"Unable to compute average grade per student because of {e}\")\n"
   ]
  },
  {
   "cell_type": "code",
   "execution_count": 37,
   "id": "53e97913",
   "metadata": {},
   "outputs": [
    {
     "name": "stdout",
     "output_type": "stream",
     "text": [
      "\n",
      "Completion rate by course:\n",
      "Course ID 6: Completion Rate = 100.00%\n",
      "Course ID 8: Completion Rate = 100.00%\n",
      "Course ID 7: Completion Rate = 100.00%\n",
      "Course ID 5: Completion Rate = 100.00%\n",
      "Course ID 3: Completion Rate = 100.00%\n",
      "Course ID 2: Completion Rate = 100.00%\n",
      "Course ID 4: Completion Rate = 100.00%\n",
      "Course ID 1: Completion Rate = 100.00%\n"
     ]
    }
   ],
   "source": [
    "# Completion rate by course\n",
    "try:\n",
    "\t# Count total assignments per course\n",
    "\tassignments_per_course = list(db.assignments.aggregate([\n",
    "\t\t{\"$group\": {\"_id\": \"$course_id\", \"total_assignments\": {\"$sum\": 1}}}\n",
    "\t]))\n",
    "\tassignments_dict = {a[\"_id\"]: a[\"total_assignments\"] for a in assignments_per_course}\n",
    "\n",
    "\t# Count submissions per course\n",
    "\tsubmissions_per_course = db.submissions.aggregate([\n",
    "\t\t{\n",
    "\t\t\t\"$lookup\": {\n",
    "\t\t\t\t\"from\": \"assignments\",\n",
    "\t\t\t\t\"localField\": \"assignment_id\",\n",
    "\t\t\t\t\"foreignField\": \"assignment_id\",\n",
    "\t\t\t\t\"as\": \"assignment_info\"\n",
    "\t\t\t}\n",
    "\t\t},\n",
    "\t\t{\"$unwind\": \"$assignment_info\"},\n",
    "\t\t{\n",
    "\t\t\t\"$group\": {\n",
    "\t\t\t\t\"_id\": \"$assignment_info.course_id\",\n",
    "\t\t\t\t\"submission_count\": {\"$sum\": 1},\n",
    "\t\t\t\t\"students\": {\"$addToSet\": \"$student_id\"}\n",
    "\t\t\t}\n",
    "\t\t}\n",
    "\t])\n",
    "\tprint(\"\\nCompletion rate by course:\")\n",
    "\tfor course in submissions_per_course:\n",
    "\t\tcourse_id = course[\"_id\"]\n",
    "\t\ttotal_assignments = assignments_dict.get(course_id, 0)\n",
    "\t\t# Number of students who submitted at least one assignment in this course\n",
    "\t\tnum_students = len(course[\"students\"])\n",
    "\t\t# Completion rate = total submissions / (total assignments * num_students)\n",
    "\t\tcompletion_rate = (course[\"submission_count\"] / (total_assignments * num_students)\n",
    "\t\t\t\t\t\t   if total_assignments > 0 and num_students > 0 else 0)\n",
    "\t\tprint(f\"Course ID {course_id}: Completion Rate = {completion_rate:.2%}\")\n",
    "except Exception as e:\n",
    "\tprint(f\"Unable to compute completion rate by course because of {e}\")"
   ]
  },
  {
   "cell_type": "code",
   "execution_count": 38,
   "id": "707e5123",
   "metadata": {},
   "outputs": [
    {
     "name": "stdout",
     "output_type": "stream",
     "text": [
      "\n",
      "Top-performing students (by average grade):\n",
      "{'average_grade': 92.5, 'student_id': 6, 'student_name': 'John Doe'}\n",
      "{'average_grade': 90.0, 'student_id': 2, 'student_name': 'Isaac Brown'}\n",
      "{'average_grade': 88.0, 'student_id': 9, 'student_name': 'Fatima Yusuf'}\n",
      "{'average_grade': 86.0, 'student_id': 7, 'student_name': 'Grace Mwangi'}\n",
      "{'average_grade': 82.0, 'student_id': 3, 'student_name': 'Clara Osei'}\n"
     ]
    }
   ],
   "source": [
    "# Top-performing students (by average grade)\n",
    "try:\n",
    "\ttop_students = db.submissions.aggregate([\n",
    "\t\t{\n",
    "\t\t\t\"$group\": {\n",
    "\t\t\t\t\"_id\": \"$student_id\",\n",
    "\t\t\t\t\"average_grade\": {\"$avg\": \"$grade\"}\n",
    "\t\t\t}\n",
    "\t\t},\n",
    "\t\t{\n",
    "\t\t\t\"$sort\": {\"average_grade\": -1}\n",
    "\t\t},\n",
    "\t\t{\n",
    "\t\t\t\"$limit\": 5\n",
    "\t\t},\n",
    "\t\t{\n",
    "\t\t\t\"$lookup\": {\n",
    "\t\t\t\t\"from\": \"users\",\n",
    "\t\t\t\t\"localField\": \"_id\",\n",
    "\t\t\t\t\"foreignField\": \"user_id\",\n",
    "\t\t\t\t\"as\": \"student_info\"\n",
    "\t\t\t}\n",
    "\t\t},\n",
    "\t\t{\"$unwind\": \"$student_info\"},\n",
    "\t\t{\n",
    "\t\t\t\"$project\": {\n",
    "\t\t\t\t\"_id\": 0,\n",
    "\t\t\t\t\"student_id\": \"$_id\",\n",
    "\t\t\t\t\"student_name\": \"$student_info.full_name\",\n",
    "\t\t\t\t\"average_grade\": 1\n",
    "\t\t\t}\n",
    "\t\t}\n",
    "\t])\n",
    "\tprint(\"\\nTop-performing students (by average grade):\")\n",
    "\tfor student in top_students:\n",
    "\t\tprint(student)\n",
    "except Exception as e:\n",
    "\tprint(f\"Unable to compute top-performing students because of {e}\")"
   ]
  },
  {
   "cell_type": "code",
   "execution_count": 39,
   "id": "0ebc3195",
   "metadata": {},
   "outputs": [
    {
     "name": "stdout",
     "output_type": "stream",
     "text": [
      "Instructor Analytics:\n",
      "{'total_students': 1, 'average_rating': 4.4, 'revenue': 55.0, 'instructor_id': 9, 'instructor_name': 'Fatima Yusuf'}\n",
      "{'total_students': 2, 'average_rating': 4.7, 'revenue': 49.99, 'instructor_id': 1, 'instructor_name': 'Dorcas Williams'}\n",
      "{'total_students': 1, 'average_rating': 4.3, 'revenue': 65.5, 'instructor_id': 15, 'instructor_name': 'Sarah Njeri'}\n",
      "{'total_students': 0, 'average_rating': 4.5, 'revenue': 44.99, 'instructor_id': 3, 'instructor_name': 'Clara Osei'}\n",
      "{'total_students': 2, 'average_rating': 4.85, 'revenue': 199.97, 'instructor_id': 13, 'instructor_name': 'Janet Mensah'}\n",
      "{'total_students': 2, 'average_rating': 4.6, 'revenue': 159.98, 'instructor_id': 5, 'instructor_name': 'Aisha Bello'}\n"
     ]
    }
   ],
   "source": [
    "# 3. Instructor Analytics:\n",
    "# Total students taught by each instructor, Average course rating per instructor, Revenue generated per instructor\n",
    "try:\n",
    "\tinstructor_analytics = db.courses.aggregate([\n",
    "\t\t{\n",
    "\t\t\t\"$lookup\": {\n",
    "\t\t\t\t\"from\": \"enrollments\",\n",
    "\t\t\t\t\"localField\": \"course_id\",\n",
    "\t\t\t\t\"foreignField\": \"course_id\",\n",
    "\t\t\t\t\"as\": \"enrollments\"\n",
    "\t\t\t}\n",
    "\t\t},\n",
    "\t\t{\n",
    "\t\t\t\"$match\": {\n",
    "\t\t\t\t\"instructor_id\": {\"$exists\": True}\n",
    "\t\t\t}\n",
    "\t\t},\n",
    "\t\t{\n",
    "\t\t\t\"$group\": {\n",
    "\t\t\t\t\"_id\": \"$instructor_id\",\n",
    "\t\t\t\t\"courses\": {\"$push\": \"$$ROOT\"},\n",
    "\t\t\t\t\"total_students\": {\"$sum\": {\"$size\": \"$enrollments\"}},\n",
    "\t\t\t\t\"average_rating\": {\"$avg\": \"$rating\"},\n",
    "\t\t\t\t\"revenue\": {\"$sum\": \"$price\"}\n",
    "\t\t\t}\n",
    "\t\t},\n",
    "\t\t{\n",
    "\t\t\t\"$lookup\": {\n",
    "\t\t\t\t\"from\": \"users\",\n",
    "\t\t\t\t\"localField\": \"_id\",\n",
    "\t\t\t\t\"foreignField\": \"user_id\",\n",
    "\t\t\t\t\"as\": \"instructor_info\"\n",
    "\t\t\t}\n",
    "\t\t},\n",
    "\t\t{\"$unwind\": \"$instructor_info\"},\n",
    "\t\t{\n",
    "\t\t\t\"$project\": {\n",
    "\t\t\t\t\"_id\": 0,\n",
    "\t\t\t\t\"instructor_id\": \"$_id\",\n",
    "\t\t\t\t\"instructor_name\": \"$instructor_info.full_name\",\n",
    "\t\t\t\t\"total_students\": 1,\n",
    "\t\t\t\t\"average_rating\": 1,\n",
    "\t\t\t\t\"revenue\": 1\n",
    "\t\t\t}\n",
    "\t\t}\n",
    "\t])\n",
    "\tprint(\"Instructor Analytics:\")\n",
    "\tfor analytics in instructor_analytics:\n",
    "\t\tprint(analytics)\n",
    "except Exception as e:\n",
    "\tprint(f\"Unable to compute instructor analytics because of {e}\")"
   ]
  },
  {
   "cell_type": "code",
   "execution_count": 40,
   "id": "11cec14c",
   "metadata": {},
   "outputs": [
    {
     "name": "stdout",
     "output_type": "stream",
     "text": [
      "Monthly Enrollment Trends:\n",
      "2025-06: 15 enrollments\n",
      "\n",
      "Most Popular Course Categories:\n",
      "Category: Programming, Enrollments: 2\n",
      "Category: Data Science, Enrollments: 2\n",
      "Category: Web Development, Enrollments: 1\n",
      "Category: Frontend Development, Enrollments: 1\n",
      "Category: Databases, Enrollments: 1\n",
      "Category: Security, Enrollments: 1\n",
      "\n",
      "Student Engagement Metrics:\n",
      "Average submissions per student: 1.20\n",
      "Total students with submissions: 10\n"
     ]
    }
   ],
   "source": [
    "# 4. Advanced Analytics:\n",
    "\n",
    "# Monthly enrollment trends\n",
    "try:\n",
    "\tmonthly_enrollments = db.enrollments.aggregate([\n",
    "\t\t{\n",
    "\t\t\t\"$group\": {\n",
    "\t\t\t\t\"_id\": {\n",
    "\t\t\t\t\t\"year\": {\"$year\": \"$enrolled_at\"},\n",
    "\t\t\t\t\t\"month\": {\"$month\": \"$enrolled_at\"}\n",
    "\t\t\t\t},\n",
    "\t\t\t\t\"total_enrollments\": {\"$sum\": 1}\n",
    "\t\t\t}\n",
    "\t\t},\n",
    "\t\t{\"$sort\": {\"_id.year\": 1, \"_id.month\": 1}}\n",
    "\t])\n",
    "\tprint(\"Monthly Enrollment Trends:\")\n",
    "\tfor entry in monthly_enrollments:\n",
    "\t\tprint(f\"{entry['_id']['year']}-{entry['_id']['month']:02d}: {entry['total_enrollments']} enrollments\")\n",
    "except Exception as e:\n",
    "\tprint(f\"Unable to compute monthly enrollment trends because of {e}\")\n",
    "\n",
    "# Most popular course categories\n",
    "try:\n",
    "\tpopular_categories = db.courses.aggregate([\n",
    "\t\t{\n",
    "\t\t\t\"$lookup\": {\n",
    "\t\t\t\t\"from\": \"enrollments\",\n",
    "\t\t\t\t\"localField\": \"course_id\",\n",
    "\t\t\t\t\"foreignField\": \"course_id\",\n",
    "\t\t\t\t\"as\": \"enrollments\"\n",
    "\t\t\t}\n",
    "\t\t},\n",
    "\t\t{\n",
    "\t\t\t\"$group\": {\n",
    "\t\t\t\t\"_id\": \"$category\",\n",
    "\t\t\t\t\"total_enrollments\": {\"$sum\": {\"$size\": \"$enrollments\"}}\n",
    "\t\t\t}\n",
    "\t\t},\n",
    "\t\t{\"$sort\": {\"total_enrollments\": -1}}\n",
    "\t])\n",
    "\tprint(\"\\nMost Popular Course Categories:\")\n",
    "\tfor cat in popular_categories:\n",
    "\t\tprint(f\"Category: {cat['_id']}, Enrollments: {cat['total_enrollments']}\")\n",
    "except Exception as e:\n",
    "\tprint(f\"Unable to compute most popular course categories because of {e}\")\n",
    "\n",
    "# Student engagement metrics (average submissions per student)\n",
    "try:\n",
    "\tengagement = db.submissions.aggregate([\n",
    "\t\t{\n",
    "\t\t\t\"$group\": {\n",
    "\t\t\t\t\"_id\": \"$student_id\",\n",
    "\t\t\t\t\"submission_count\": {\"$sum\": 1}\n",
    "\t\t\t}\n",
    "\t\t},\n",
    "\t\t{\n",
    "\t\t\t\"$group\": {\n",
    "\t\t\t\t\"_id\": None,\n",
    "\t\t\t\t\"avg_submissions_per_student\": {\"$avg\": \"$submission_count\"},\n",
    "\t\t\t\t\"total_students\": {\"$sum\": 1}\n",
    "\t\t\t}\n",
    "\t\t}\n",
    "\t])\n",
    "\tprint(\"\\nStudent Engagement Metrics:\")\n",
    "\tfor metric in engagement:\n",
    "\t\tprint(f\"Average submissions per student: {metric['avg_submissions_per_student']:.2f}\")\n",
    "\t\tprint(f\"Total students with submissions: {metric['total_students']}\")\n",
    "except Exception as e:\n",
    "\tprint(f\"Unable to compute student engagement metrics because of {e}\")"
   ]
  },
  {
   "cell_type": "code",
   "execution_count": 42,
   "id": "57fdeb3c",
   "metadata": {},
   "outputs": [
    {
     "name": "stdout",
     "output_type": "stream",
     "text": [
      "Unique index on user_id created.\n",
      "Unique index on email created.\n",
      "Index on instructor_id created.\n",
      "Index on course_id for enrollments created.\n",
      "Index on course_id for lessons created.\n"
     ]
    }
   ],
   "source": [
    "# Task 5.1: Index Creation\n",
    "# Create appropriate indexes for: User email lookup\n",
    "\n",
    "from pymongo.errors import OperationFailure\n",
    "\n",
    "# Unique index on user_id for users collection\n",
    "try:\n",
    "\tdb.users.create_index(\"user_id\", unique=True)\n",
    "\tprint(\"Unique index on user_id created.\")\n",
    "except OperationFailure as e:\n",
    "\tprint(f\"Could not create unique index on user_id: {e}\")\n",
    "\n",
    "# Unique index on email for users collection\n",
    "try:\n",
    "\tdb.users.create_index(\"email\", unique=True)\n",
    "\tprint(\"Unique index on email created.\")\n",
    "except OperationFailure as e:\n",
    "\tprint(f\"Could not create unique index on email: {e}\")\n",
    "\n",
    "# Index on instructor_id for courses collection to optimize lookups\n",
    "try:\n",
    "\tdb.courses.create_index(\"instructor_id\")\n",
    "\tprint(\"Index on instructor_id created.\")\n",
    "except OperationFailure as e:\n",
    "\tprint(f\"Could not create index on instructor_id: {e}\")\n",
    "\n",
    "# Index on course_id for enrollments and lessons collections to optimize lookups\n",
    "try:\n",
    "\tdb.enrollments.create_index(\"course_id\")\n",
    "\tprint(\"Index on course_id for enrollments created.\")\n",
    "except OperationFailure as e:\n",
    "\tprint(f\"Could not create index on course_id for enrollments: {e}\")\n",
    "\n",
    "try:\n",
    "\tdb.lessons.create_index(\"course_id\")\n",
    "\tprint(\"Index on course_id for lessons created.\")\n",
    "except OperationFailure as e:\n",
    "\tprint(f\"Could not create index on course_id for lessons: {e}\")"
   ]
  },
  {
   "cell_type": "code",
   "execution_count": 43,
   "id": "b255925a",
   "metadata": {},
   "outputs": [
    {
     "name": "stdout",
     "output_type": "stream",
     "text": [
      "Courses with title containing 'Python' in category 'Data Science':\n"
     ]
    }
   ],
   "source": [
    "# 2. Course search by title and category\n",
    "\n",
    "search_title = \"Python\"\n",
    "search_category = \"Data Science\"\n",
    "\n",
    "try:\n",
    "\tcourses = db.courses.find({\n",
    "\t\t\"title\": {\"$regex\": search_title, \"$options\": \"i\"},\n",
    "\t\t\"category\": search_category\n",
    "\t})\n",
    "\tprint(f\"Courses with title containing '{search_title}' in category '{search_category}':\")\n",
    "\tfor course in courses:\n",
    "\t\tprint(course)\n",
    "except Exception as e:\n",
    "\tprint(f\"Unable to search courses by title and category because of {e}\")"
   ]
  },
  {
   "cell_type": "code",
   "execution_count": 44,
   "id": "9384505f",
   "metadata": {},
   "outputs": [
    {
     "name": "stdout",
     "output_type": "stream",
     "text": [
      "Assignments due after today:\n",
      "{'_id': ObjectId('684dc6dce797b6585cb6c5fd'), 'assignment_id': 1, 'course_id': 1, 'title': 'HTML Basics Assignment - Updated', 'description': 'Create a simple web page using basic HTML elements with additional features.', 'due_date': datetime.datetime(2025, 6, 30, 0, 0), 'created_at': datetime.datetime(2025, 6, 13, 17, 47, 29, 987000)}\n",
      "{'_id': ObjectId('684dc6dce797b6585cb6c5fe'), 'assignment_id': 2, 'course_id': 2, 'title': 'CSS Styling Project', 'description': 'Style the provided HTML page using CSS to match a given design.', 'due_date': datetime.datetime(2025, 6, 26, 0, 0), 'created_at': datetime.datetime(2025, 6, 13, 0, 0)}\n",
      "{'_id': ObjectId('684dc6dce797b6585cb6c5ff'), 'assignment_id': 3, 'course_id': 3, 'title': 'JavaScript Variables and Functions', 'description': 'Write a script using functions and variables to simulate a calculator.', 'due_date': datetime.datetime(2025, 6, 27, 0, 0), 'created_at': datetime.datetime(2025, 6, 13, 0, 0)}\n",
      "{'_id': ObjectId('684dc6dce797b6585cb6c600'), 'assignment_id': 4, 'course_id': 4, 'title': 'Python List Operations', 'description': 'Implement a program that manipulates and analyzes lists.', 'due_date': datetime.datetime(2025, 6, 28, 0, 0), 'created_at': datetime.datetime(2025, 6, 13, 0, 0)}\n",
      "{'_id': ObjectId('684dc6dce797b6585cb6c601'), 'assignment_id': 5, 'course_id': 5, 'title': 'Data Cleaning with Pandas', 'description': 'Clean and prepare a dataset using Pandas techniques.', 'due_date': datetime.datetime(2025, 6, 29, 0, 0), 'created_at': datetime.datetime(2025, 6, 13, 0, 0)}\n",
      "{'_id': ObjectId('684dc6dce797b6585cb6c602'), 'assignment_id': 6, 'course_id': 6, 'title': 'SQL Query Practice', 'description': 'Write SQL queries to retrieve and manipulate data from a sample database.', 'due_date': datetime.datetime(2025, 6, 30, 0, 0), 'created_at': datetime.datetime(2025, 6, 13, 0, 0)}\n",
      "{'_id': ObjectId('684dc6dce797b6585cb6c603'), 'assignment_id': 7, 'course_id': 7, 'title': 'MongoDB CRUD Operations', 'description': 'Create and update documents in a MongoDB collection.', 'due_date': datetime.datetime(2025, 7, 1, 0, 0), 'created_at': datetime.datetime(2025, 6, 13, 0, 0)}\n",
      "{'_id': ObjectId('684dc6dce797b6585cb6c604'), 'assignment_id': 8, 'course_id': 8, 'title': 'Building Django Models', 'description': 'Define Django models for a blogging application.', 'due_date': datetime.datetime(2025, 7, 2, 0, 0), 'created_at': datetime.datetime(2025, 6, 13, 0, 0)}\n",
      "{'_id': ObjectId('684dc6dce797b6585cb6c605'), 'assignment_id': 9, 'course_id': 9, 'title': 'API Design with FastAPI', 'description': 'Design and test a RESTful API using FastAPI.', 'due_date': datetime.datetime(2025, 7, 3, 0, 0), 'created_at': datetime.datetime(2025, 6, 13, 0, 0)}\n",
      "{'_id': ObjectId('684dc6dce797b6585cb6c606'), 'assignment_id': 10, 'course_id': 10, 'title': 'Data Analysis with Python', 'description': 'Analyze a dataset and provide insights using charts and graphs.', 'due_date': datetime.datetime(2025, 7, 4, 0, 0), 'created_at': datetime.datetime(2025, 6, 13, 0, 0)}\n"
     ]
    }
   ],
   "source": [
    "# 3. Assignment queries by due date\n",
    "\n",
    "try:\n",
    "\tassignments_due_soon = db.assignments.find({\"due_date\": {\"$gte\": datetime.now()}})\n",
    "\tprint(\"Assignments due after today:\")\n",
    "\tfor assignment in assignments_due_soon:\n",
    "\t\tprint(assignment)\n",
    "except Exception as e:\n",
    "\tprint(f\"Unable to retrieve assignments by due date because of {e}\")"
   ]
  },
  {
   "cell_type": "code",
   "execution_count": 45,
   "id": "a57f3c09",
   "metadata": {},
   "outputs": [
    {
     "name": "stdout",
     "output_type": "stream",
     "text": [
      "Enrollments for student_id 4:\n",
      "{'_id': ObjectId('684dc6dce797b6585cb6c5d5'), 'enrollment_id': 1, 'student_id': 4, 'course_id': 1, 'enrolled_at': datetime.datetime(2025, 6, 14, 20, 0, 44, 389000), 'is_active': True}\n",
      "{'_id': ObjectId('684dc6dce797b6585cb6c5de'), 'enrollment_id': 10, 'student_id': 4, 'course_id': 10, 'enrolled_at': datetime.datetime(2025, 6, 14, 20, 0, 44, 389000), 'is_active': True}\n",
      "\n",
      "Enrollments for course_id 1:\n",
      "{'_id': ObjectId('684dc6dce797b6585cb6c5d5'), 'enrollment_id': 1, 'student_id': 4, 'course_id': 1, 'enrolled_at': datetime.datetime(2025, 6, 14, 20, 0, 44, 389000), 'is_active': True}\n",
      "{'_id': ObjectId('684dc6dde797b6585cb6c615'), 'enrollment_id': 21, 'student_id': 21, 'course_id': 1, 'enrolled_at': datetime.datetime(2025, 6, 14, 20, 0, 45, 360000), 'is_active': True}\n"
     ]
    }
   ],
   "source": [
    "# 4. Enrollment queries by student and course\n",
    "\n",
    "student_id = 4  \n",
    "try:\n",
    "\tstudent_enrollments = db.enrollments.find({\"student_id\": student_id})\n",
    "\tprint(f\"Enrollments for student_id {student_id}:\")\n",
    "\tfor enrollment in student_enrollments:\n",
    "\t\tprint(enrollment)\n",
    "except Exception as e:\n",
    "\tprint(f\"Unable to retrieve enrollments for student_id {student_id} because of {e}\")\n",
    "\n",
    "# Find all enrollments for a specific course\n",
    "course_id = 1  \n",
    "try:\n",
    "\tcourse_enrollments = db.enrollments.find({\"course_id\": course_id})\n",
    "\tprint(f\"\\nEnrollments for course_id {course_id}:\")\n",
    "\tfor enrollment in course_enrollments:\n",
    "\t\tprint(enrollment)\n",
    "except Exception as e:\n",
    "\tprint(f\"Unable to retrieve enrollments for course_id {course_id} because of {e}\")"
   ]
  },
  {
   "cell_type": "code",
   "execution_count": null,
   "id": "2b232efc",
   "metadata": {},
   "outputs": [
    {
     "name": "stdout",
     "output_type": "stream",
     "text": [
      "Explain output for active students query:\n",
      "{'explainVersion': '1', 'queryPlanner': {'namespace': 'eduhub_db.users', 'parsedQuery': {'$and': [{'is_active': {'$eq': 'True'}}, {'role': {'$eq': 'student'}}]}, 'indexFilterSet': False, 'queryHash': 'CA768216', 'planCacheShapeHash': 'CA768216', 'planCacheKey': 'B7056986', 'optimizationTimeMillis': 0, 'maxIndexedOrSolutionsReached': False, 'maxIndexedAndSolutionsReached': False, 'maxScansToExplodeReached': False, 'prunedSimilarIndexes': False, 'winningPlan': {'isCached': False, 'stage': 'COLLSCAN', 'filter': {'$and': [{'is_active': {'$eq': 'True'}}, {'role': {'$eq': 'student'}}]}, 'direction': 'forward'}, 'rejectedPlans': []}, 'executionStats': {'executionSuccess': True, 'nReturned': 11, 'executionTimeMillis': 3, 'totalKeysExamined': 0, 'totalDocsExamined': 21, 'executionStages': {'isCached': False, 'stage': 'COLLSCAN', 'filter': {'$and': [{'is_active': {'$eq': 'True'}}, {'role': {'$eq': 'student'}}]}, 'nReturned': 11, 'executionTimeMillisEstimate': 0, 'works': 22, 'advanced': 11, 'needTime': 10, 'needYield': 0, 'saveState': 0, 'restoreState': 0, 'isEOF': 1, 'direction': 'forward', 'docsExamined': 21}, 'allPlansExecution': []}, 'queryShapeHash': '863FC11672FD7A6198219F90A073F5C018D1F0E08D831E00F30A4C8B83BBD177', 'command': {'find': 'users', 'filter': {'role': 'student', 'is_active': 'True'}, '$db': 'eduhub_db'}, 'serverInfo': {'host': 'DESKTOP-88CP0TK', 'port': 27017, 'version': '8.0.10', 'gitVersion': '9d03076bb2d5147d5b6fe381c7118b0b0478b682'}, 'serverParameters': {'internalQueryFacetBufferSizeBytes': 104857600, 'internalQueryFacetMaxOutputDocSizeBytes': 104857600, 'internalLookupStageIntermediateDocumentMaxSizeBytes': 104857600, 'internalDocumentSourceGroupMaxMemoryBytes': 104857600, 'internalQueryMaxBlockingSortMemoryUsageBytes': 104857600, 'internalQueryProhibitBlockingMergeOnMongoS': 0, 'internalQueryMaxAddToSetBytes': 104857600, 'internalDocumentSourceSetWindowFieldsMaxMemoryBytes': 104857600, 'internalQueryFrameworkControl': 'trySbeRestricted', 'internalQueryPlannerIgnoreIndexWithCollationForRegex': 1}, 'ok': 1.0}\n"
     ]
    }
   ],
   "source": [
    "# Task 5.2: Query Optimization\n",
    "# 1. Analyze query performance using explain() method in PyMongo\n",
    "\n",
    "try:\n",
    "\texplain_result = db.users.find({\"role\": \"student\", \"is_active\": 'True'}).explain()\n",
    "\tprint(\"Explain output for active students query:\")\n",
    "\tprint(explain_result)\n",
    "except Exception as e:\n",
    "\tprint(f\"Unable to analyze query performance: {e}\")"
   ]
  },
  {
   "cell_type": "code",
   "execution_count": 47,
   "id": "c602bd6c",
   "metadata": {},
   "outputs": [
    {
     "name": "stdout",
     "output_type": "stream",
     "text": [
      "Compound index on (role, is_active) created.\n",
      "Optimized: Courses with Instructor Information (limited fields):\n",
      "{'_id': ObjectId('684dc6dce797b6585cb6c5cd'), 'title': 'Introduction to Python', 'instructor_id': 1, 'category': 'Programming', 'instructor_info': {'full_name': 'Dorcas Williams', 'email': 'dorcas@gmail.com'}}\n",
      "{'_id': ObjectId('684dc6dce797b6585cb6c5ce'), 'title': 'Data Analysis with Pandas', 'instructor_id': 5, 'category': 'Data Science', 'instructor_info': {'full_name': 'Aisha Bello', 'email': 'aisha@gmail.com'}}\n",
      "{'_id': ObjectId('684dc6dce797b6585cb6c5cf'), 'title': 'Web Development with HTML & CSS', 'instructor_id': 13, 'category': 'Web Development', 'instructor_info': {'full_name': 'Janet Mensah', 'email': 'janetm@gmail.com'}}\n",
      "{'_id': ObjectId('684dc6dce797b6585cb6c5d0'), 'title': 'JavaScript Essentials', 'instructor_id': 3, 'category': 'Programming', 'instructor_info': {'full_name': 'Clara Osei', 'email': 'clarao@gmail.com'}}\n",
      "{'_id': ObjectId('684dc6dce797b6585cb6c5d1'), 'title': 'React for Beginners', 'instructor_id': 13, 'category': 'Frontend Development', 'instructor_info': {'full_name': 'Janet Mensah', 'email': 'janetm@gmail.com'}}\n",
      "{'_id': ObjectId('684dc6dce797b6585cb6c5d2'), 'title': 'Advanced Machine Learning', 'instructor_id': 5, 'category': 'Data Science', 'instructor_info': {'full_name': 'Aisha Bello', 'email': 'aisha@gmail.com'}}\n",
      "{'_id': ObjectId('684dc6dce797b6585cb6c5d3'), 'title': 'Database Design with SQL', 'instructor_id': 9, 'category': 'Databases', 'instructor_info': {'full_name': 'Fatima Yusuf', 'email': 'fatima@gmail.com'}}\n",
      "{'_id': ObjectId('684dc6dce797b6585cb6c5d4'), 'title': 'Cybersecurity Fundamentals', 'instructor_id': 15, 'category': 'Security', 'instructor_info': {'full_name': 'Sarah Njeri', 'email': 'sarahn@gmail.com'}}\n",
      "{'_id': ObjectId('684dc6dde797b6585cb6c614'), 'title': 'Advanced React Development', 'instructor_id': 13, 'category': 'Frontend Development', 'instructor_info': {'full_name': 'Janet Mensah', 'email': 'janetm@gmail.com'}}\n",
      "Text index on title created.\n",
      "Optimized: Courses matching 'Python':\n",
      "{'_id': ObjectId('684dc6dce797b6585cb6c5cd'), 'course_id': 1, 'title': 'Introduction to Python', 'description': 'Learn the basics of Python programming.', 'instructor_id': 1, 'category': 'Programming', 'level': 'beginner', 'duration': 10, 'price': 49.99, 'tags': ['Python', 'Programming', 'Beginner', 'HTML5', 'Web Development'], 'created_at': datetime.datetime(2025, 6, 14, 20, 0, 43, 846000), 'updated_at': datetime.datetime(2025, 6, 14, 20, 0, 46, 133000), 'is_published': True, 'rating': 4.7}\n"
     ]
    }
   ],
   "source": [
    "# 2. Optimize at least 3 slow queries\n",
    "\n",
    "# 1. Find all active students (ensure index on 'role' and 'is_active')\n",
    "try:\n",
    "\tdb.users.create_index([(\"role\", 1), (\"is_active\", 1)])\n",
    "\tprint(\"Compound index on (role, is_active) created.\")\n",
    "except Exception as e:\n",
    "\tprint(f\"Could not create compound index on (role, is_active): {e}\")\n",
    "\n",
    "# 2. Retrieve course details with instructor information\n",
    "try:\n",
    "\tcourses_with_instructors_optimized = db.courses.aggregate([\n",
    "\t\t{\n",
    "\t\t\t\"$lookup\": {\n",
    "\t\t\t\t\"from\": \"users\",\n",
    "\t\t\t\t\"localField\": \"instructor_id\",\n",
    "\t\t\t\t\"foreignField\": \"user_id\",\n",
    "\t\t\t\t\"as\": \"instructor_info\"\n",
    "\t\t\t}\n",
    "\t\t},\n",
    "\t\t{\"$unwind\": \"$instructor_info\"},\n",
    "\t\t{\n",
    "\t\t\t\"$project\": {\n",
    "\t\t\t\t\"title\": 1,\n",
    "\t\t\t\t\"category\": 1,\n",
    "\t\t\t\t\"instructor_id\": 1,\n",
    "\t\t\t\t\"instructor_info.full_name\": 1,\n",
    "\t\t\t\t\"instructor_info.email\": 1\n",
    "\t\t\t}\n",
    "\t\t}\n",
    "\t])\n",
    "\tprint(\"Optimized: Courses with Instructor Information (limited fields):\")\n",
    "\tfor course in courses_with_instructors_optimized:\n",
    "\t\tprint(course)\n",
    "except Exception as e:\n",
    "\tprint(f\"Unable to retrieve optimized courses with instructor information because of {e}\")\n",
    "\n",
    "# 3. Search courses by title (case-insensitive, partial match)\n",
    "try:\n",
    "\tdb.courses.create_index([(\"title\", \"text\")])\n",
    "\tprint(\"Text index on title created.\")\n",
    "except Exception as e:\n",
    "\tprint(f\"Could not create text index on title: {e}\")\n",
    "\n",
    "try:\n",
    "\t# Use $text for optimized search if possible\n",
    "\tmatching_courses_optimized = db.courses.find({\"$text\": {\"$search\": search_title}})\n",
    "\tprint(f\"Optimized: Courses matching '{search_title}':\")\n",
    "\tfor course in matching_courses_optimized:\n",
    "\t\tprint(course)\n",
    "except Exception as e:\n",
    "\tprint(f\"Unable to search courses by title '{search_title}' using text index because of {e}\")"
   ]
  },
  {
   "cell_type": "code",
   "execution_count": 48,
   "id": "7631d0f8",
   "metadata": {},
   "outputs": [
    {
     "name": "stdout",
     "output_type": "stream",
     "text": [
      "Original query duration: 0.039000 seconds\n",
      "Optimized query duration: 0.000000 seconds\n"
     ]
    }
   ],
   "source": [
    "# 3. Document the performance improvements using Python timing functions\n",
    "\n",
    "import time\n",
    "\n",
    "# Compare timing for original vs optimized \"Find all active students\" query\n",
    "\n",
    "# Original query (before index/optimization)\n",
    "start_time = time.time()\n",
    "list(db.users.find({\"role\": \"student\", \"is_active\": 'True'}))\n",
    "original_duration = time.time() - start_time\n",
    "\n",
    "# Optimized query (after compound index)\n",
    "start_time = time.time()\n",
    "list(active_students)  # active_students uses the same query but benefits from the index\n",
    "optimized_duration = time.time() - start_time\n",
    "\n",
    "print(f\"Original query duration: {original_duration:.6f} seconds\")\n",
    "print(f\"Optimized query duration: {optimized_duration:.6f} seconds\")\n"
   ]
  },
  {
   "cell_type": "code",
   "execution_count": null,
   "id": "416c2cf1",
   "metadata": {},
   "outputs": [],
   "source": []
  },
  {
   "cell_type": "code",
   "execution_count": null,
   "id": "6f4f3119",
   "metadata": {},
   "outputs": [],
   "source": []
  },
  {
   "cell_type": "code",
   "execution_count": null,
   "id": "58885482",
   "metadata": {},
   "outputs": [],
   "source": []
  }
 ],
 "metadata": {
  "kernelspec": {
   "display_name": "Python 3",
   "language": "python",
   "name": "python3"
  },
  "language_info": {
   "codemirror_mode": {
    "name": "ipython",
    "version": 3
   },
   "file_extension": ".py",
   "mimetype": "text/x-python",
   "name": "python",
   "nbconvert_exporter": "python",
   "pygments_lexer": "ipython3",
   "version": "3.12.10"
  }
 },
 "nbformat": 4,
 "nbformat_minor": 5
}
